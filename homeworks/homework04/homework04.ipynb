{
 "cells": [
  {
   "attachments": {},
   "cell_type": "markdown",
   "metadata": {},
   "source": [
    "# __Homework 4:__ Practical analysis with BioPython"
   ]
  },
  {
   "attachments": {},
   "cell_type": "markdown",
   "metadata": {},
   "source": [
    "For the homework, you are going to extend the code from the analysis of our FASTQ file in lectures 8 and 9.\n",
    "Recall that the FASTQ file contains reads from a real sequencing run of influenza virus HA and NA genes.\n",
    "\n",
    "---\n",
    "The __actual sequences__ are as follows:\n",
    "\n",
    "    5'-[end of HA]-AGGCGGCCGC-[16 X N barcode]-3'\n",
    "or \n",
    "\n",
    "    5'-[end of NA]-AGGCGGCCGC-[16 X N barcode]-3'\n",
    "---\n",
    "\n",
    "\n",
    "__The end of NA is__ `...CACGATAGATAAATAATAGTGCACCAT`\n",
    "    \n",
    "__The end of HA is__ `...CCGGATTTGCATATAATGATGCACCAT`\n",
    "\n",
    "---    \n",
    "\n",
    "    \n",
    "The __sequencing reads__ from the reverse end of the molecules (in 5'>3' orientation), so the sequencing reads are as follows:\n",
    "\n",
    "    5'-[reverse complement of 16 X N barcode]-GCGGCCGCCT-[reverse complement of the end of HA]-3'\n",
    "or\n",
    "\n",
    "    5'-[reverse complement of 16 X N barcode]-GCGGCCGCCT-[reverse complement of the end of NA]-3'\n",
    "\n",
    "---   \n",
    "    \n",
    "The reads can originate from **either** HA or NA, and that will be distinguished by the most 3' end of the read.\n",
    "But in our example exercise in class, we did not distinguish among reads matching to HA and NA, as we didn't even look far enough into the read to tell the identity.\n",
    "\n",
    "For the homework, your goal is to write code that extends the material from lectures 8 and 9 to also distinguish between HA and NA.\n",
    "This homework can be completed almost entirely by re-using code from lecture 9. You will need to set up your analysis to do the following:\n",
    " 1. Get the reverse complement of each read.\n",
    " 2. Determine if it matches the expected pattern for HA and NA, and if so which one.\n",
    " 3. If it matches, extract the barcode and add it to a dictionary to keep track of counts.\n",
    " 4. Determine the number and distribution of barcodes for HA and NA separately.\n",
    "\n",
    "Please include code to address each of the following questions. Please include code comments to explain what your code is attempting to accomplish. Don't forget to include references to the sources you used to obtain your answer, including your classmates (if you are working in groups)."
   ]
  },
  {
   "cell_type": "code",
   "execution_count": 13,
   "metadata": {},
   "outputs": [
    {
     "name": "stdout",
     "output_type": "stream",
     "text": [
      "['GCTTAAGTTATTTAGTGCGGCCGCCTATGGTGCACTATTATTTATCTATCGTGAAAGGGAGTTCTGCTCCATCAGGCCAAGATCGGAAGAGCACACGTCTGAACTCCAGTCACATGTCAGAATCTCGTATGCCGTCTTCTGCTTGAAAAAAAAAAAAAAGCTGAAATTAATAATTTTGAAACCAGTTTTGTAAACGCAGCACTAAAATGAAGGCATGCAACGACGATGTTTATTGACACGGAATAGCAGA', 'CTTCCTGGTCACGGTTGCGGCCGCCTATGGTGCATCATTATATGCAAATCCGGCATTGCAAGGAGCCGTTGGAACACATAGATCGGAAGAGCACACGTCTGAACTCCAGTCACATGTCAGAATCTCGTATGCCGTCTTCTGCTTGAAAAAAAAAAAAAAAACCTAAATAGGTATCATAAAGACACCATCAACAGCTTAGTATACAACCCCATGCATTAAACAAATACATCCCTAATGACAGAGTGTACGA', 'CACGGCTATTACCCCGCGGCCGCCTATGGTGCACTATTATTTATCTATCGTGAAAGGGAGTTCTGCTCCATCAGGCCAAGATCGGAAGAGCACACGTCTGAACTCCAGTCACATGTCAGAATCTCGTATGCCGTCTTCTGCTTGAAAAAAAAAACTAACATACAAAATCTAACTCCCACTAGGTATTGAAGCCAATGATCGAACTTATGACACTGATTAACGTAGACGTCCCTTCTACTATACACTACGA', 'TCAGCGATGAATGTGGGCGGCCGCCTATGTTGCATCATTATATGCAAATCCGGCATTGCAAGGAGCCGTTGGAACACATAGATCGGAAGAGCACACGTCTGAACTCCAGTCACATGTCAGAATCTCGTATGCCGTCTTCTGCTTGAAAAAAAAAAAAAAAAGCAAAGCACGCAAAACACAACCATCAGATGAAAGAAGACACTAACCATCCGACCCAACCTCATGCTATCACCAACTACCATTCATCTGA', 'ATATGGGAGACGATAAGCGGCCGCCTATGGTGCATCATTATATGCAAATCCGGCATTGCAAGGAGCCGTTGGAACACATAGATCGGAAGAGCACACGTCTGAACTCCAGTCACATGTCAGAATCTCGTATGCCGTCTTCTGCTTGAAAAAAAAAAAAAACACTACATTAAATATTTCATAACTAGCACCAAAATCGTAGCGCTACACACATTCGCAGACTCGATCGCGTCCCAGAACACAGTCTTTACTC']\n"
     ]
    }
   ],
   "source": [
    "import Bio.SeqIO\n",
    "import Bio.Seq\n",
    "import re\n",
    "reads = Bio.SeqIO.parse('barcodes_R1.fastq', format='fastq')\n",
    "seqreads = list(reads)\n",
    "seqreads_Seq = []\n",
    "for seqrecord in seqreads:\n",
    "    sequence = seqrecord.seq # isolate the sequence from the seqrecord\n",
    "    seqreads_Seq.append(sequence) # add string sequence to list\n",
    "\n",
    "# Sequence list to be used in downstream count_barcodes function\n",
    "seq_list = []\n",
    "for sequence in seqreads_Seq:\n",
    "    temp = str(sequence)\n",
    "    seq_list.append(temp)\n",
    "print(seq_list[0:5])"
   ]
  },
  {
   "cell_type": "code",
   "execution_count": 11,
   "metadata": {},
   "outputs": [],
   "source": [
    "def count_barcodes(seqs, middle='GCGGCCGCCT', Seq_HA='ATGGTGCATCATTATATGCAAATCCGG', Seq_NA='ATGGTGCACTATTATTTATCTATCGTG'):\n",
    "\n",
    "\n",
    "    # When looking up regular expressions online, I learned you can use both raw strings and f strings in the regular expression library to make the syntax look cleaner \n",
    "    # https://stackoverflow.com/questions/21104476/what-does-the-r-in-pythons-re-compiler-pattern-flags-mean\n",
    "    # https://stackoverflow.com/questions/52980108/how-do-i-use-format-in-re-compile\n",
    "    \n",
    "    subtype_pattern_HA = re.compile(f'{Seq_HA}')\n",
    "    subtype_pattern_NA = re.compile(f'{Seq_NA}')\n",
    "    # initalize empty lists and dictionaries \n",
    "    barcode_dict_HA = {}\n",
    "    barcode_dict_NA = {}\n",
    "    no_hit_counter_NA = 0\n",
    "    no_hit_counter_HA = 0\n",
    "    total_HA_reads = 0\n",
    "    total_NA_reads = 0\n",
    "\n",
    "    for sequence in seqs: \n",
    "        query = sequence.upper()\n",
    "        \n",
    "        # Check for HA \n",
    "        if subtype_pattern_HA.search(query):\n",
    "            total_HA_reads += 1\n",
    "            # If HA is found, try to extract barcode\n",
    "            barcode_pattern = re.compile('(?P<barcode>[ATCG]{16})' + middle + Seq_HA)\n",
    "            barcode_match = barcode_pattern.search(query)\n",
    "            # Add barcode to dict \n",
    "            if barcode_match:\n",
    "                barcode = barcode_match.group('barcode')\n",
    "                if barcode in barcode_dict_HA:\n",
    "                    barcode_dict_HA[barcode] += 1\n",
    "                else:\n",
    "                    barcode_dict_HA[barcode] = 1\n",
    "            # Document invalid reads\n",
    "            else:\n",
    "                no_hit_counter_HA += 1\n",
    "\n",
    "        # Do the same for NA \n",
    "        if subtype_pattern_NA.search(query):\n",
    "            total_NA_reads += 1\n",
    "            # If NA is found, try to extract barcode\n",
    "            barcode_pattern = re.compile('(?P<barcode>[ATCG]{16})' + middle + Seq_NA) \n",
    "            barcode_match = barcode_pattern.search(query)\n",
    "            # Add barcode to dict \n",
    "            if barcode_match:\n",
    "                barcode = barcode_match.group('barcode')\n",
    "                if barcode in barcode_dict_NA:\n",
    "                    barcode_dict_NA[barcode] += 1\n",
    "                else:\n",
    "                    barcode_dict_NA[barcode] = 1\n",
    "            # Document invalid reads\n",
    "            else:\n",
    "                no_hit_counter_NA += 1\n",
    "\n",
    "    # using the max function that is described here instead of using a loop to iterate over the values: https://stackoverflow.com/questions/268272/getting-key-with-maximum-value-in-dictionary\n",
    "    HA_max_count = max(barcode_dict_HA.values())\n",
    "    HA_max_barcode = max(barcode_dict_HA, key=barcode_dict_HA.get)\n",
    "    NA_max_count = max(barcode_dict_NA.values())\n",
    "    NA_max_barcode = max(barcode_dict_NA, key=barcode_dict_NA.get)\n",
    "    \n",
    "    \n",
    "\n",
    "    print(\"----------------------------------------------------------------------\")\n",
    "    print(barcode_dict_HA)\n",
    "    print(\"HA read Count:\", total_HA_reads)\n",
    "    print(\"HA invalid barcode count:\", no_hit_counter_HA)\n",
    "    print(f'HA barcode with max counts: {HA_max_barcode}, {HA_max_count}')\n",
    "    print(\"----------------------------------------------------------------------\")\n",
    "    print(barcode_dict_NA)\n",
    "    print(\"NA read Count:\", total_NA_reads)\n",
    "    print(\"NA invalid barcode count:\", no_hit_counter_NA)\n",
    "    print(f'NA barcode with max counts: {NA_max_barcode}, {NA_max_count}')\n",
    "    print(\"----------------------------------------------------------------------\")\n",
    "    \n",
    "    "
   ]
  },
  {
   "cell_type": "markdown",
   "metadata": {},
   "source": [
    "1. How many reads map to HA, and how many reads map to NA?"
   ]
  },
  {
   "cell_type": "code",
   "execution_count": 12,
   "metadata": {},
   "outputs": [
    {
     "name": "stdout",
     "output_type": "stream",
     "text": [
      "----------------------------------------------------------------------\n",
      "{'CTTCCTGGTCACGGTT': 70, 'ATATGGGAGACGATAA': 77, 'AGGGATGACTGGTATG': 28, 'TGACTTATACGTAAGT': 53, 'ATGGTATAGTAGTAGC': 119, 'GCGGACTGTGGGTAAC': 62, 'ACATCCTTGTGTGGTG': 41, 'TAAGTGTGATGTATGA': 47, 'GATTCACGGAGGGTAC': 99, 'CGTGGTAGCGTGGAGT': 31, 'AAGGGTTGAGGAGTGC': 48, 'GGACAGCAGGGAGCGG': 43, 'AGTTATCGCTACGTTT': 61, 'GTAATATGGGACGTGA': 9, 'TTAATGTCGGGTCGGG': 155, 'CGAGTCGACCTCTCGT': 60, 'GTACTAGGAAGTCGAA': 86, 'GTTAGCTAGACTGGGT': 70, 'GCGAAGGCGTATGACC': 16, 'TTGTCGGAAGGTTAAG': 55, 'CTACATTTATTGCCCA': 57, 'TGACACAGGATGAGGG': 54, 'CAGCCTGAATGGAATT': 35, 'GGAGATAAGGCTAGAA': 81, 'AGTTTGAGATTATTCT': 62, 'ACAGACTTGTTTGTTT': 50, 'CCGAGATGTTCGTATT': 49, 'AGATTGCGCAGATTCG': 60, 'AGACTGATCGGAAATC': 124, 'GCTATCAAGACGTTCT': 30, 'TGTTGAAGCACCGGTC': 76, 'TTACGTGTTGTCAGCA': 47, 'CGGTAGGCCCGACTAT': 21, 'CGAGTACCATTGGGAA': 28, 'GGAATTTTCTTGCCAG': 43, 'GTGTACGTTCACCGAA': 76, 'TTGGCGAGTGATGGAG': 115, 'AGCGGCGTGGGGTTGA': 24, 'TTGAAAACGCTAGTTA': 1, 'TTGCTCGATGAGTACT': 31, 'GGTTGAGGTGACGGTT': 104, 'TAGTTAAGGGTCGTTC': 18, 'CATTGAAGTTTCTGGA': 71, 'CTCAAGGGTATCGTGT': 26, 'AAGAGGGGATGGCTGG': 76, 'TGGCAGGAGTGTGAAT': 22, 'GACATGCTAATAAGTA': 46, 'TGGCAGTATAATTTCC': 10, 'GCGGTTATTGTGGGGC': 38, 'GTCGCAGATCGCGTGC': 32, 'TGCTGGGTTAGTGCCT': 37, 'TGTAATGGTATGAAGT': 32, 'TAGGTGTGAAGGTGGG': 62, 'TTTTTTTGACGTTCGT': 6, 'CGTCTTCATATGCGAC': 40, 'TGTCGGGGGGTTTTGT': 27, 'CTTTTGGATATACGGA': 13, 'TTTAGAAGGGACGCTC': 34, 'AAAGACGACTGAGCGA': 38, 'GCCGACTGTGGGTAAC': 1, 'GCCCGTTAGGGATTTC': 17, 'CAACTAGCCCGTAAAT': 7, 'TGGTGCCTGACGGTCT': 46, 'GGTAGTCTCTAGGGAA': 37, 'GGGGACGTGGTTGTCA': 29, 'TCATTTTTTAGAGTAT': 56, 'TTGCGTACGTGTTGTG': 39, 'ACGTGGTGTGTGTGCA': 38, 'GCGGGTGGGATCTGGG': 12, 'AGCAGGGTTGTGACTC': 1, 'CCACGCTTTGATCAGT': 34, 'AGTACTGTGAGTCGGT': 52, 'CATTTAAGTCGCCCGA': 20, 'GTCCACACACGGAACC': 40, 'GGCAACTTGGGAGATC': 28, 'GACGCCTTCCGCCTCG': 18, 'CGGTGATGGCGTTCCG': 13, 'CGGGTTAGGTAAATCA': 47, 'TTTGGGGGGGACCCAG': 26, 'GTAGGCTGTCTCATTT': 45, 'AGCCGGGTTGTGACTC': 63, 'TGAATCCGTGAGGGGA': 43, 'TGGTTAGACGCTTGAC': 23, 'TGGTGATCTTAACGCG': 20, 'TGGCTCACGGTCTGGG': 25, 'CGCAAATAAATCACTG': 30, 'AACCGTCTCTATGACG': 68, 'AGTTATTGGTATTGCA': 32, 'ATACTGAAATACTAAG': 81, 'GAGGAGCTGGTGCAGC': 14, 'AGTCTTCATATGCGAC': 4, 'GGGGAGGAACCGGTGT': 19, 'TGTCTGGACGGGATCG': 47, 'GGCGGTAATTATCCGT': 31, 'GTGTCGGACGGTTAAG': 1, 'TGCTTCACAGTGTTCC': 40, 'AGATTGCGAAGATTCG': 1, 'CTTAAATGGGGGTAAT': 11, 'TCTAATCTGAGAGGTC': 42, 'CACTCGAGGGGATTGG': 24, 'GCGGTGTTAGAAAACC': 8, 'GGAGCTGTAAGTTCAC': 28, 'GAGAGTATGATAGGGG': 5, 'AGTAGTCGACTACCCT': 15, 'GAGGATTGCATTTCGC': 26, 'TTGCGAGCGGTACTAT': 1, 'GCTGACGCTGTTAAGA': 17, 'ATGGTCTTGGGTACGG': 12, 'CGGCGTACTTATACGC': 50, 'CTTGGGACGTGGACCC': 6, 'TATTGCGTTGGGGCCG': 23, 'ACTGACTAAGGTATAA': 40, 'TTTAGAAGGGACGCCC': 1, 'TAATTGTAGTGGGGGG': 38, 'ACGAATAAATGTGCTC': 1, 'AGGGCCACCGGGCAAT': 39, 'GTTGTAGTTATGCAAT': 73, 'CAGCCCGAATGGAATT': 1, 'CCACTAAGTAGGGGTC': 23, 'GTGCAGGCTCAGGGCA': 8, 'TGGCCTGGGTTTCCGT': 36, 'CGATGTGCTAGTCAGA': 18, 'AACCGTCTCTATGATG': 1, 'TGTAAAGGTATGAAGT': 1, 'GAGGAGCCGGTGCAGC': 1, 'CCGAGATGTTCTTATT': 1, 'TATTACGAAGCAAAGG': 15, 'TGCGCGACGAAAGCTT': 4, 'CGTGGACATTTAGACA': 2, 'AGTAGTCGACTACTCT': 1, 'GCATCCAGAATGCAGG': 3, 'ATGGGGTGCTGCGTCG': 15, 'CTGTGCTAGCTCTGTC': 18, 'TTGTCGGACGGTTAAG': 1, 'ATAGAAGGTAGCACCG': 1, 'TGTTGAAGCCCCGGTC': 1, 'GATAGGGGGATGAAAC': 18, 'GAGGGGGTTGATTCCG': 10, 'ATTTGATTTCTTCTAA': 7, 'TTTAGTAAGAATGATG': 32, 'CGTGGTTAGGTCAGGG': 1, 'CTTTTGGATATACTGA': 2, 'CGTCCGGGAATTTACT': 5, 'GTCGAAGTATTGTGCG': 35, 'TATCGGGGGGTTTTGT': 1, 'GTTCGTTGCAAACTCA': 6, 'GTGTTCGTTCACCGAA': 1, 'AGAGGCGTGGGGTTGA': 1, 'ACGAATAAATGTGGTC': 45, 'TTCCTTTAATTTATGT': 7, 'CCTAGATGTTCGTATT': 2, 'ATCGCGAGTGGGTGGA': 3, 'AAGCGTTCCTTGCGGC': 14, 'TGGGGATGCTAGAGGA': 15, 'CATTCAAGTTTCTGGA': 1, 'GCAGTATACCGTCCGA': 9, 'TGTTATAACGTTTTTA': 27, 'CGGGCTGCCACGGTGG': 24, 'GTAGGACATTACGGTG': 7, 'ATCTCGAGTGGGTGGA': 1, 'TGCTTGGTTAGTGCCT': 1, 'CATTTAAGTCCCCCGA': 1, 'GGAAATTATTAAGTTT': 1, 'CGGCGTACTTATACCC': 2, 'GATTCACGGAGGGTAT': 1, 'AGTTATCGCTACCTTT': 1, 'TAAGTGTGATGTATTA': 1, 'ACACGCTTTGATCAGT': 1, 'GCTAACGGGCGTGATG': 18, 'TTATGGGACAACGAGT': 18, 'GCGAAGGCGTATCACC': 1, 'AGATTGCGCAGATTCT': 1, 'TGTTACGAAGCAAAGG': 1, 'GGAAATTAGTAAGTTT': 6, 'AGTTTGCGCAGATTCG': 1, 'GTTGTAGTTATGAAAT': 2, 'GACGCCTTCCGCCTCT': 1, 'ATTTAGGGCAGGCCAA': 2, 'CATTGCGTTGGGGCCG': 1, 'TATGAACAGGCCGACG': 3, 'CGGGTTAGGTAATTCA': 1, 'GCTAAGGGGCGTGATG': 1, 'TTAACCTCGGGTCGAG': 1, 'GGGTTCAAGGGACAAA': 1, 'GCCGGTAATTATCCGT': 1, 'AGTTATTGGTATTCCA': 1, 'TTTGGGGGGGACCCAT': 1, 'CCGAGATGCTCGTATT': 1, 'AACCTTCTCTATGACG': 1, 'CGAGTCGGCCTCTCGT': 1, 'TCATTTTTTAGAGTAA': 1, 'GGATTGCGCAGATTCG': 1, 'CTACGTTTATTGCCCA': 1, 'ACAGACTAAGGTATAA': 1, 'GCTGATGCTGTTAAGA': 1, 'GTATTAGGAAGTCGAA': 1, 'GAATATCCATATATTA': 13, 'AGGGATGACTGGTGTG': 1, 'ATACTGAAATACTAAC': 1, 'CTACATGATGGGAGAC': 2, 'GGTAGAGGTGACGGTT': 1, 'GTTAGCTAGACTTGGT': 1, 'CTTCCTGGTCACAGTT': 1, 'CGGTAGTCCCGACTAT': 1, 'AAAGCAGCTCTGCCGC': 6, 'GTAGTCTGTCTCATTT': 1, 'CATGACGCCGTAAGTC': 2, 'GATTCACGGAGTGTAC': 1, 'AAGGGTTGAGGAGTGT': 1, 'CTACATTTATTTCCCA': 1, 'TGTCGGGGGGTTTTTT': 1, 'AAGTCAGAAAGGTATG': 3, 'CGGGCTGACACGGTGG': 1, 'GTACTAGGAATTCGAA': 1, 'TCTAATCTGAGAGATC': 1, 'GTGGTTATTGTGGGGC': 1, 'CTACATTTCTTGCCCA': 1, 'TTACGTACGTGTTGTG': 1, 'GTCGGAGATCGCGTGC': 1, 'GTTTGAGGTGACGGTT': 1, 'ACACACTTGTTTGTTT': 1, 'TTTAGTAAGAATGATA': 1, 'GGGGATGTGGTTGTCA': 1, 'TGGCCTGGGTTTCCAT': 1, 'GTTGTAGTTATTCAAT': 1, 'GGCGACTCGTGCCCCT': 2, 'CATTGAAGTTTCTTGA': 1, 'TTTGGGGGCGACCCAG': 1, 'AGTACTGTGAGTCGAT': 1, 'CTTTTGGTTATACGGA': 1, 'GCGGAGGCGTATGACC': 1, 'TCCCGTAGCTGCCTGT': 3, 'AGTCTGAGATTATTCT': 1, 'GTATGGGAGACGATAA': 1, 'ATACTGAACTACTAAG': 1, 'GTGTACTTTCACCGAA': 1, 'ACGGATAAATGTGGTC': 1, 'GGACAGGAGGGAGCGG': 1, 'CTTCCTGGTCACGTTT': 1, 'TGTCGACTGGAGTGTC': 1, 'CGGGCTCCCACGGTGG': 1, 'AGTACTGTCAGTCGGT': 1, 'TTACGCGTTGTCAGCA': 1, 'GAGGAGATGGTGCAGC': 1, 'TGGCTCACGGTCTGGT': 1, 'TGGGAGTATAATTTCC': 1, 'CGTTATTGGTATTGCA': 1, 'AGACTGATCGGAAATA': 1, 'CTGTGCTAGCTATATC': 1, 'GATAGGGGTATGAAAC': 1, 'GATTCACGTAGGGTAC': 1, 'GGAGCTTTAAGTTCAC': 1, 'CGTCTTCATATGGGAC': 1, 'TTGCACGATGAGTACT': 1, 'TGTCTCACGGTCTGGG': 1, 'TTGGCGAGTGAAGGAG': 1, 'ATATTGCGCAGATTCG': 1, 'GGGGATTGCATTTCGC': 1, 'TAGTTGTGAAGGTGGG': 1, 'TCGAGCTGGGTGTGCT': 1, 'TGGTGTCTGACGGTCT': 1, 'GACCCCTTCCGCCTCG': 1, 'GATTCACGGATGGTAC': 1, 'AAGAGGGGATGGCTTG': 1, 'GTTAGTCTCTAGGGAA': 1, 'GCTGACGATGTTAAGA': 1, 'AGATTGCTCAGATTCG': 1, 'TTAATGTCTGGTCGGT': 1, 'TGGCAGTAGTGTGAAT': 1, 'GTACAGCAGGGAGCGG': 1, 'TGTGGTCGCGTGGAGT': 1, 'GTGTACGTTCACCGTA': 1, 'GCCTGGGTTAGTGCCT': 1, 'TTAATGTCGGGTAGGG': 1, 'GGGGACGTGTTTGTCA': 1, 'TATTGCGTTGGGGCCT': 1, 'CGGTAGGCTCGACTAT': 1, 'AGTACTGTGCGTCGGT': 1, 'GTCGCAAATCGCGTGC': 1, 'GTTGTAGTCATGCAAT': 1, 'CCGATATGTTCGTATT': 1, 'AAGGTATAGTAGTAGC': 1}\n",
      "HA read Count: 5409\n",
      "HA invalid barcode count: 160\n",
      "HA barcode with max counts: TTAATGTCGGGTCGGG, 155\n",
      "----------------------------------------------------------------------\n",
      "{'GCTTAAGTTATTTAGT': 62, 'GTTGGGAAACGGGTAG': 118, 'ATGGGGATGGAAGACG': 133, 'CAATTGGTGGACTCGC': 93, 'CATAGCTTATTTATAT': 51, 'CCTCAATAAGAAAAGA': 73, 'CTTGGGGAACGTTTAT': 107, 'GCTTTGGTTCACGGGT': 1, 'GTGGGGATGTACGATT': 123, 'GCCGTATGGCTGGTGG': 93, 'CGGGGTGTGGAGTCCA': 76, 'CTCCAAGGCTTCTTGA': 150, 'CGAGATGCGGGAGAAA': 105, 'ACAGGTCGTATTGATT': 74, 'GAGTAGGGTATTGTCA': 46, 'CGAGATGGGGGAGAAA': 1, 'TTGGGAGTAGTGAATG': 92, 'AAGGGATCACTGGTGA': 65, 'AGGGTGTGGCGGTGGT': 44, 'GCCACAGGAATGCAGC': 72, 'TAAGTGTGTCCTGAAC': 70, 'GCTAGTGTGAGGCTGG': 107, 'GCTTTGGTTCACGCGT': 102, 'CCCGGGGAGAACTGGT': 152, 'TTACTCGTGGCCGTGA': 65, 'GTTGCCATCAGTGTTA': 76, 'GGAGTTTATAACATGC': 45, 'CTGCTGGTCGGGGTGA': 33, 'AGAAGGTGAGGTGGAA': 95, 'CATGTGTTCGACTATC': 85, 'GCCTGTCATTACATCA': 74, 'TTGGCTCCCTATGTGC': 58, 'AGCGAGGCCTGCCAGA': 122, 'GGGGATTCTAGGGTTC': 69, 'CGTAGGATTGAATTAG': 99, 'TTTGTAATATGGTAAG': 105, 'CTACTTTTGCTGTACA': 69, 'CCGTCTCGCGATGTCA': 72, 'GGCGAGCAAGACATGG': 24, 'CGTGTGGCAGGCTTGA': 39, 'GTGTGGGAAGAAATTT': 16, 'TCATATATGTAAGTGC': 69, 'CTCCAAGGCTTCTTGC': 1, 'TTCTTGAGGATCGTCA': 141, 'TTTATATGAGTTTCGT': 72, 'GGTGTGGGATGGCAGT': 49, 'TGTGAGTCCGGCTGCG': 70, 'CCGTCTCGTGATGTCA': 1, 'GGGGTTTCTAGGGTTC': 2, 'CCTGTCACGGTGTGTG': 88, 'CAGAACAATAAGTGAG': 48, 'ATGTGGATGGAAGACG': 1, 'TTTCGTAAACTGAGAG': 18, 'GCACGTGTAATCGAGT': 83, 'GGAGTTTATAAAATGC': 1, 'CCTTTGGTTCACGCGT': 1, 'CTTCTGGTCGGGGTGA': 1, 'GTGGGGATGTACGATA': 1, 'GTGGGGATGGAAGACG': 9, 'ACCGGGGAGCACTGGT': 1, 'TAAGTGTGTACTGAAC': 1, 'GCTTTTGTTCACGCGT': 2, 'ATTGGGGAACGTTTAT': 1, 'AAGGGATAACTGGTGA': 1, 'TAAGTGTCTCCTGAAC': 1, 'CAATTGGTTGACTCGC': 1, 'TTTATATGACTTTCGT': 1, 'GGAGATGCGGGAGAAA': 1, 'CATGTGTTCGCCTATC': 1, 'CTACTTTTGTTGTACA': 1, 'TTTATATGAGTTTCTT': 1, 'ATGCGGATGGAAGACG': 1, 'CCAGGGGAGAACTGGT': 2, 'CTACTTTTGCTGCACA': 1, 'GGGGCTTCTAGGGTTC': 1, 'CACCAAGGCTTCTTGA': 1, 'TAAGTGTATCCTGAAC': 1, 'TTTGGGTCGTGAGTGT': 16, 'CTACTCTTGCTGTACA': 1, 'GTTTCCATCAGTGTTA': 2, 'GGCGAGCAAGACATGT': 1, 'ATTGGGATGGAAGACG': 1, 'GTTGCCATAAGTGTTA': 1, 'TCCGGGGAGAACTGGT': 2, 'GCTTAAGTTCTTTAGT': 1, 'CCGTCTCGCTATGTCA': 1, 'ACAGGTGGTATTGATT': 1, 'CCCTGGGAGAACTGGT': 1, 'GATTTGGTTCACGCGT': 1, 'CATAGATTATTTATAT': 1, 'CCCGGGGAGCACTGGT': 1, 'CCGTCTCGAGATGTCA': 1, 'GCACGCGTAATCGAGT': 1, 'CATGTGTTCAACTATC': 1, 'TTCTTGAGGATAGTCA': 1, 'GCACGTGTAATTGAGT': 1, 'GGGTAGGGTATTGTCA': 1, 'AGCGAGTCCTGCCAGA': 1, 'TTAATCGTGGCCGTGA': 1, 'GTGGGGATGTACTATT': 1, 'TTTGGGGAACGTTTAT': 1, 'TCCACAGGAATGCAGC': 1, 'TCATATATGTAAGTCC': 1, 'GGTGAGGTGGAAGACG': 1, 'TTTTTAATATGGTAAG': 1, 'AAAGGTCGTATTGATT': 1, 'CAGAACAATAAGTGAT': 1, 'ATGAGGATGGAAGACG': 1, 'TAAGTGTGTCGTGAAC': 1, 'TTCTTGAGGCTCGTCA': 1, 'GCGGGGATGTACGATT': 1, 'TGAGTTTATAACATGC': 1, 'CCTGTCAAGGTGTGTG': 1, 'GTGTTGATGTACGATT': 1, 'CAATTGGTGGAGTCGC': 1, 'TTGGGATTAGTGAATG': 1, 'CGTATGATTGAATTAG': 1, 'CATAGCTTCTTTATAT': 1, 'GGGGTGTGGCGGTGGT': 1, 'CATGTGCTCGACTATC': 1, 'TTTGCTCCCTATGTGC': 1, 'AAGGTGAGGATCGTCA': 1, 'ATGGGAGTAGTGAATG': 1, 'TTACTCGTGGACGTGA': 1, 'AAGGGATCACTGGAGA': 1, 'TTTGGGTGGTGAGTGT': 1, 'CGGGGTGTGGAGTCTA': 1, 'GCCACAGGCATGCAGC': 1, 'GCTAGTGTGAGGCTGC': 1, 'GGAGTGGGATGGCAGT': 1, 'TATAGCTTATTTATAT': 1, 'CTTGGGGAACGTTTAC': 1, 'CTCCAAGCCTTCTTGA': 1, 'ATTGTAATATGGTAAG': 1, 'CGTATGGCAGGCTTGA': 1, 'TTGGGAGTAGTTAATG': 1, 'TTGGCTCCTTATGTGC': 1}\n",
      "NA read Count: 4122\n",
      "NA invalid barcode count: 213\n",
      "NA barcode with max counts: CCCGGGGAGAACTGGT, 152\n",
      "----------------------------------------------------------------------\n"
     ]
    }
   ],
   "source": [
    "# I chose to create a couple of loops that go through a string list, sort by either HA or NA revcomp ends, and then do some barcode cataloging with regular expression search patterns \n",
    "# Because this was all within a function, I chose to make a short summary at the end as an output \n",
    "# The number of reads that were first mapped to HA or NA are in the 1st line of the summary via the variables (total_HA_reads, total_NA_reads)\n",
    "count_barcodes(seq_list)"
   ]
  },
  {
   "attachments": {},
   "cell_type": "markdown",
   "metadata": {},
   "source": [
    "2. How many HA sequences did not have a valid barcode? Also anwer the same question for NA."
   ]
  },
  {
   "cell_type": "code",
   "execution_count": 175,
   "metadata": {},
   "outputs": [
    {
     "name": "stdout",
     "output_type": "stream",
     "text": [
      "----------------------------------------------------------------------\n",
      "HA read Count: 5409\n",
      "HA invalid barcode count: 160\n",
      "HA barcode with max counts: TTAATGTCGGGTCGGG, 155\n",
      "----------------------------------------------------------------------\n",
      "NA read Count: 4122\n",
      "NA invalid barcode count: 213\n",
      "NA barcode with max counts: CCCGGGGAGAACTGGT, 152\n",
      "----------------------------------------------------------------------\n"
     ]
    }
   ],
   "source": [
    "# The \"no_hit_counter_NA\" and \"no_hit_counter_HA\" variables were created to store this information \n",
    "# They are printed out on the 2nd line of the summary \n",
    "count_barcodes(seq_list)"
   ]
  },
  {
   "attachments": {},
   "cell_type": "markdown",
   "metadata": {},
   "source": [
    "3. What is the HA barcode with the most counts (and how many counts)? Also answer the same question for NA.\n",
    "\n",
    "    _Hint: you will need to find the key associated with the maximum value in your dictionary. There are many ways to do this._"
   ]
  },
  {
   "cell_type": "code",
   "execution_count": 174,
   "metadata": {},
   "outputs": [
    {
     "name": "stdout",
     "output_type": "stream",
     "text": [
      "----------------------------------------------------------------------\n",
      "HA read Count: 5409\n",
      "HA invalid barcode count: 160\n",
      "HA barcode with max counts: TTAATGTCGGGTCGGG, 155\n",
      "----------------------------------------------------------------------\n",
      "NA read Count: 4122\n",
      "NA invalid barcode count: 213\n",
      "NA barcode with max counts: CCCGGGGAGAACTGGT, 152\n",
      "----------------------------------------------------------------------\n"
     ]
    }
   ],
   "source": [
    "# The variables (HA_max_count, HA_max_barcode, NA_max_count, NA_max_barcode) are used to determine the maximum values in each dictionary \n",
    "# I chose to use a built in max function instead of a loop, because the function was getting pretty large and I wanted to try something new\n",
    "# These values are printed on the 3rd line of the summary \n",
    "count_barcodes(seq_list)"
   ]
  }
 ],
 "metadata": {
  "kernelspec": {
   "display_name": "Python 3",
   "language": "python",
   "name": "python3"
  },
  "language_info": {
   "codemirror_mode": {
    "name": "ipython",
    "version": 3
   },
   "file_extension": ".py",
   "mimetype": "text/x-python",
   "name": "python",
   "nbconvert_exporter": "python",
   "pygments_lexer": "ipython3",
   "version": "3.9.6"
  },
  "toc": {
   "nav_menu": {},
   "number_sections": false,
   "sideBar": true,
   "skip_h1_title": false,
   "toc_cell": false,
   "toc_position": {
    "height": "623.8px",
    "left": "0px",
    "right": "829.6px",
    "top": "33.2px",
    "width": "322.4px"
   },
   "toc_section_display": "block",
   "toc_window_display": true
  }
 },
 "nbformat": 4,
 "nbformat_minor": 2
}
