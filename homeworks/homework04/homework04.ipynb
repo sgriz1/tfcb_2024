{
 "cells": [
  {
   "attachments": {},
   "cell_type": "markdown",
   "metadata": {},
   "source": [
    "# __Homework 4:__ Practical analysis with BioPython"
   ]
  },
  {
   "attachments": {},
   "cell_type": "markdown",
   "metadata": {},
   "source": [
    "For the homework, you are going to extend the code from the analysis of our FASTQ file in lectures 8 and 9.\n",
    "Recall that the FASTQ file contains reads from a real sequencing run of influenza virus HA and NA genes.\n",
    "\n",
    "---\n",
    "The __actual sequences__ are as follows:\n",
    "\n",
    "    5'-[end of HA]-AGGCGGCCGC-[16 X N barcode]-3'\n",
    "or \n",
    "\n",
    "    5'-[end of NA]-AGGCGGCCGC-[16 X N barcode]-3'\n",
    "---\n",
    "\n",
    "\n",
    "__The end of NA is__ `...CACGATAGATAAATAATAGTGCACCAT`\n",
    "    \n",
    "__The end of HA is__ `...CCGGATTTGCATATAATGATGCACCAT`\n",
    "\n",
    "---    \n",
    "\n",
    "    \n",
    "The __sequencing reads__ from the reverse end of the molecules (in 5'>3' orientation), so the sequencing reads are as follows:\n",
    "\n",
    "    5'-[reverse complement of 16 X N barcode]-GCGGCCGCCT-[reverse complement of the end of HA]-3'\n",
    "or\n",
    "\n",
    "    5'-[reverse complement of 16 X N barcode]-GCGGCCGCCT-[reverse complement of the end of NA]-3'\n",
    "\n",
    "---   \n",
    "    \n",
    "The reads can originate from **either** HA or NA, and that will be distinguished by the most 3' end of the read.\n",
    "But in our example exercise in class, we did not distinguish among reads matching to HA and NA, as we didn't even look far enough into the read to tell the identity.\n",
    "\n",
    "For the homework, your goal is to write code that extends the material from lectures 8 and 9 to also distinguish between HA and NA.\n",
    "This homework can be completed almost entirely by re-using code from lecture 9. You will need to set up your analysis to do the following:\n",
    " 1. Get the reverse complement of each read.\n",
    " 2. Determine if it matches the expected pattern for HA and NA, and if so which one.\n",
    " 3. If it matches, extract the barcode and add it to a dictionary to keep track of counts.\n",
    " 4. Determine the number and distribution of barcodes for HA and NA separately.\n",
    "\n",
    "Please include code to address each of the following questions. Please include code comments to explain what your code is attempting to accomplish. Don't forget to include references to the sources you used to obtain your answer, including your classmates (if you are working in groups)."
   ]
  },
  {
   "cell_type": "code",
   "execution_count": 179,
   "metadata": {},
   "outputs": [],
   "source": [
    "import Bio.SeqIO\n",
    "import Bio.Seq\n",
    "reads = Bio.SeqIO.parse('barcodes_R1.fastq', format='fastq')\n",
    "seqreads = list(reads)\n",
    "seqreads_Seq = []\n",
    "for seqrecord in seqreads:\n",
    "    sequence = seqrecord.seq # isolate the sequence from the seqrecord\n",
    "    seqreads_Seq.append(sequence) # add string sequence to list\n",
    "\n",
    "# Sequence list to be used in downstream count_barcodes function\n",
    "seq_list = []\n",
    "for sequence in seqreads_Seq:\n",
    "    temp = str(sequence)\n",
    "    seq_list.append(temp)"
   ]
  },
  {
   "cell_type": "code",
   "execution_count": 177,
   "metadata": {},
   "outputs": [],
   "source": [
    "def count_barcodes(seqs, middle='GCGGCCGCCT', Seq_HA='ATGGTGCATCATTATATGCAAATCCGG', Seq_NA='ATGGTGCACTATTATTTATCTATCGTG'):\n",
    "\n",
    "\n",
    "    # When looking up regular expressions online, I learned you can use both raw strings and f strings in the regular expression library to make the syntax look cleaner \n",
    "    # https://stackoverflow.com/questions/21104476/what-does-the-r-in-pythons-re-compiler-pattern-flags-mean\n",
    "    # https://stackoverflow.com/questions/52980108/how-do-i-use-format-in-re-compile\n",
    "    \n",
    "    subtype_pattern_HA = re.compile(f'{Seq_HA}')\n",
    "    subtype_pattern_NA = re.compile(f'{Seq_NA}')\n",
    "    # initalize empty lists and dictionaries \n",
    "    barcode_dict_HA = {}\n",
    "    barcode_dict_NA = {}\n",
    "    no_hit_counter_NA = 0\n",
    "    no_hit_counter_HA = 0\n",
    "    total_HA_reads = 0\n",
    "    total_NA_reads = 0\n",
    "\n",
    "    for sequence in seqs: \n",
    "        query = sequence.upper()\n",
    "        \n",
    "        # Check for HA \n",
    "        if subtype_pattern_HA.search(query):\n",
    "            total_HA_reads += 1\n",
    "            # If HA is found, try to extract barcode\n",
    "            barcode_pattern = re.compile('(?P<barcode>[ATCG]{16})' + middle + Seq_HA)\n",
    "            barcode_match = barcode_pattern.search(query)\n",
    "            # Add barcode to dict \n",
    "            if barcode_match:\n",
    "                barcode = barcode_match.group('barcode')\n",
    "                if barcode in barcode_dict_HA:\n",
    "                    barcode_dict_HA[barcode] += 1\n",
    "                else:\n",
    "                    barcode_dict_HA[barcode] = 1\n",
    "            # Document invalid reads\n",
    "            else:\n",
    "                no_hit_counter_HA += 1\n",
    "\n",
    "        # Do the same for NA \n",
    "        if subtype_pattern_NA.search(query):\n",
    "            total_NA_reads += 1\n",
    "            # If NA is found, try to extract barcode\n",
    "            barcode_pattern = re.compile('(?P<barcode>[ATCG]{16})' + middle + Seq_NA) \n",
    "            barcode_match = barcode_pattern.search(query)\n",
    "            # Add barcode to dict \n",
    "            if barcode_match:\n",
    "                barcode = barcode_match.group('barcode')\n",
    "                if barcode in barcode_dict_NA:\n",
    "                    barcode_dict_NA[barcode] += 1\n",
    "                else:\n",
    "                    barcode_dict_NA[barcode] = 1\n",
    "            # Document invalid reads\n",
    "            else:\n",
    "                no_hit_counter_NA += 1\n",
    "\n",
    "    # using the max function that is described here instead of using a loop to iterate over the values: https://stackoverflow.com/questions/268272/getting-key-with-maximum-value-in-dictionary\n",
    "    HA_max_count = max(barcode_dict_HA.values())\n",
    "    HA_max_barcode = max(barcode_dict_HA, key=barcode_dict_HA.get)\n",
    "    NA_max_count = max(barcode_dict_NA.values())\n",
    "    NA_max_barcode = max(barcode_dict_NA, key=barcode_dict_NA.get)\n",
    "    \n",
    "    print(\"----------------------------------------------------------------------\")\n",
    "    #print(barcode_dict_HA)\n",
    "    print(\"HA read Count:\", total_HA_reads)\n",
    "    print(\"HA invalid barcode count:\", no_hit_counter_HA)\n",
    "    print(f'HA barcode with max counts: {HA_max_barcode}, {HA_max_count}')\n",
    "    print(\"----------------------------------------------------------------------\")\n",
    "    #print(barcode_dict_NA)\n",
    "    print(\"NA read Count:\", total_NA_reads)\n",
    "    print(\"NA invalid barcode count:\", no_hit_counter_NA)\n",
    "    print(f'NA barcode with max counts: {NA_max_barcode}, {NA_max_count}')\n",
    "    print(\"----------------------------------------------------------------------\")"
   ]
  },
  {
   "cell_type": "markdown",
   "metadata": {},
   "source": [
    "1. How many reads map to HA, and how many reads map to NA?"
   ]
  },
  {
   "cell_type": "code",
   "execution_count": 176,
   "metadata": {},
   "outputs": [
    {
     "name": "stdout",
     "output_type": "stream",
     "text": [
      "----------------------------------------------------------------------\n",
      "HA read Count: 5409\n",
      "HA invalid barcode count: 160\n",
      "HA barcode with max counts: TTAATGTCGGGTCGGG, 155\n",
      "----------------------------------------------------------------------\n",
      "NA read Count: 4122\n",
      "NA invalid barcode count: 213\n",
      "NA barcode with max counts: CCCGGGGAGAACTGGT, 152\n",
      "----------------------------------------------------------------------\n"
     ]
    }
   ],
   "source": [
    "# I chose to create a couple of loops that go through a string list, sort by either HA or NA revcomp ends, and then do some barcode cataloging with regular expression search patterns \n",
    "# Because this was all within a function, I chose to make a short summary at the end as an output \n",
    "# The number of reads that were first mapped to HA or NA are in the 1st line of the summary via the variables (total_HA_reads, total_NA_reads)\n",
    "count_barcodes(seq_list)"
   ]
  },
  {
   "attachments": {},
   "cell_type": "markdown",
   "metadata": {},
   "source": [
    "2. How many HA sequences did not have a valid barcode? Also anwer the same question for NA."
   ]
  },
  {
   "cell_type": "code",
   "execution_count": 175,
   "metadata": {},
   "outputs": [
    {
     "name": "stdout",
     "output_type": "stream",
     "text": [
      "----------------------------------------------------------------------\n",
      "HA read Count: 5409\n",
      "HA invalid barcode count: 160\n",
      "HA barcode with max counts: TTAATGTCGGGTCGGG, 155\n",
      "----------------------------------------------------------------------\n",
      "NA read Count: 4122\n",
      "NA invalid barcode count: 213\n",
      "NA barcode with max counts: CCCGGGGAGAACTGGT, 152\n",
      "----------------------------------------------------------------------\n"
     ]
    }
   ],
   "source": [
    "# The \"no_hit_counter_NA\" and \"no_hit_counter_HA\" variables were created to store this information \n",
    "# They are printed out on the 2nd line of the summary \n",
    "count_barcodes(seq_list)"
   ]
  },
  {
   "attachments": {},
   "cell_type": "markdown",
   "metadata": {},
   "source": [
    "3. What is the HA barcode with the most counts (and how many counts)? Also answer the same question for NA.\n",
    "\n",
    "    _Hint: you will need to find the key associated with the maximum value in your dictionary. There are many ways to do this._"
   ]
  },
  {
   "cell_type": "code",
   "execution_count": 174,
   "metadata": {},
   "outputs": [
    {
     "name": "stdout",
     "output_type": "stream",
     "text": [
      "----------------------------------------------------------------------\n",
      "HA read Count: 5409\n",
      "HA invalid barcode count: 160\n",
      "HA barcode with max counts: TTAATGTCGGGTCGGG, 155\n",
      "----------------------------------------------------------------------\n",
      "NA read Count: 4122\n",
      "NA invalid barcode count: 213\n",
      "NA barcode with max counts: CCCGGGGAGAACTGGT, 152\n",
      "----------------------------------------------------------------------\n"
     ]
    }
   ],
   "source": [
    "# The variables (HA_max_count, HA_max_barcode, NA_max_count, NA_max_barcode) are used to determine the maximum values in each dictionary \n",
    "# I chose to use a built in max function instead of a loop, because the function was getting pretty large and I wanted to try something new\n",
    "# These values are printed on the 3rd line of the summary \n",
    "count_barcodes(seq_list)"
   ]
  }
 ],
 "metadata": {
  "kernelspec": {
   "display_name": "Python 3",
   "language": "python",
   "name": "python3"
  },
  "language_info": {
   "codemirror_mode": {
    "name": "ipython",
    "version": 3
   },
   "file_extension": ".py",
   "mimetype": "text/x-python",
   "name": "python",
   "nbconvert_exporter": "python",
   "pygments_lexer": "ipython3",
   "version": "3.9.6"
  },
  "toc": {
   "nav_menu": {},
   "number_sections": false,
   "sideBar": true,
   "skip_h1_title": false,
   "toc_cell": false,
   "toc_position": {
    "height": "623.8px",
    "left": "0px",
    "right": "829.6px",
    "top": "33.2px",
    "width": "322.4px"
   },
   "toc_section_display": "block",
   "toc_window_display": true
  }
 },
 "nbformat": 4,
 "nbformat_minor": 2
}
