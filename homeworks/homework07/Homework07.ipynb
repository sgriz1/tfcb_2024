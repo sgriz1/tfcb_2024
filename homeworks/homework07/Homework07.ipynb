{
 "cells": [
  {
   "cell_type": "markdown",
   "id": "a3aee033-5aeb-43a8-bb8b-cfb69fc7a690",
   "metadata": {},
   "source": [
    "***Total: 42 points***\n",
    "\n",
    "Complete this homework by writing R code to complete the following tasks. Keep in mind:\n",
    "\n",
    "i. Empty chunks have been included where code is required\n",
    "ii. This homework requires use of data files:\n",
    "\n",
    "  - `BRCA.genome_wide_snp_6_broad_Level_3_scna.seg` (Problems 1, 2)\n",
    "  - `GIAB_highconf_v.3.3.2.vcf.gz` (Problem 3)\n",
    "  \n",
    "iv. You will be graded on your code and output results. The assignment is worth 42 points total; partial credit can be awarded.\n",
    "\n",
    "For additional resources, please refer to these links:  \n",
    "Problems 1 & 2:  \n",
    "  - https://www.bioconductor.org/packages/devel/bioc/vignettes/plyranges/inst/doc/an-introduction.html\n",
    "  - https://bioconductor.org/packages/release/bioc/vignettes/GenomicRanges/inst/doc/GenomicRangesIntroduction.html  \n",
    "Problem 3:  \n",
    "  - https://bioconductor.org/packages/release/bioc/vignettes/Rsamtools/inst/doc/Rsamtools-Overview.pdf  \n",
    "Problem 4: \n",
    "  - https://bioconductor.org/packages/release/bioc/vignettes/VariantAnnotation/inst/doc/VariantAnnotation.pdf  \n",
    "\n",
    "# Problem 1: Overlaps between genomic regions and copy number alterations. (14 points total)\n",
    "\n",
    "### Preparation\n",
    "Load copy number segment results as shown in *2.1 BED format* of *Lecture16_GenomicData.Rmd*. You will use the same file as in the lecture notes, `BRCA.genome_wide_snp_6_broad_Level_3_scna.seg`. Here is code to get you started."
   ]
  },
  {
   "cell_type": "code",
   "execution_count": 1,
   "id": "0860111c-c185-4db0-a325-74242df5cb77",
   "metadata": {
    "vscode": {
     "languageId": "r"
    }
   },
   "outputs": [],
   "source": [
    "#load packages\n",
    "suppressPackageStartupMessages({\n",
    "    library(tidyverse)\n",
    "    library(GenomicRanges)\n",
    "    library(plyranges)\n",
    "    library(VariantAnnotation)\n",
    "})"
   ]
  },
  {
   "cell_type": "code",
   "execution_count": 24,
   "id": "c16b4e1f-d699-4706-b86f-381e0424ceb8",
   "metadata": {
    "vscode": {
     "languageId": "r"
    }
   },
   "outputs": [
    {
     "data": {
      "text/html": [
       "<table class=\"dataframe\">\n",
       "<caption>A data.frame: 6 x 6</caption>\n",
       "<thead>\n",
       "\t<tr><th></th><th scope=col>Sample</th><th scope=col>Chromosome</th><th scope=col>Start</th><th scope=col>End</th><th scope=col>Num_Probes</th><th scope=col>Segment_Mean</th></tr>\n",
       "\t<tr><th></th><th scope=col>&lt;chr&gt;</th><th scope=col>&lt;chr&gt;</th><th scope=col>&lt;int&gt;</th><th scope=col>&lt;int&gt;</th><th scope=col>&lt;int&gt;</th><th scope=col>&lt;dbl&gt;</th></tr>\n",
       "</thead>\n",
       "<tbody>\n",
       "\t<tr><th scope=row>1</th><td>TCGA-3C-AAAU-10A-01D-A41E-01</td><td>1</td><td>  3218610</td><td> 95674710</td><td>53225</td><td> 0.0055</td></tr>\n",
       "\t<tr><th scope=row>2</th><td>TCGA-3C-AAAU-10A-01D-A41E-01</td><td>1</td><td> 95676511</td><td> 95676518</td><td>    2</td><td>-1.6636</td></tr>\n",
       "\t<tr><th scope=row>3</th><td>TCGA-3C-AAAU-10A-01D-A41E-01</td><td>1</td><td> 95680124</td><td>167057183</td><td>24886</td><td> 0.0053</td></tr>\n",
       "\t<tr><th scope=row>4</th><td>TCGA-3C-AAAU-10A-01D-A41E-01</td><td>1</td><td>167057495</td><td>167059336</td><td>    3</td><td>-1.0999</td></tr>\n",
       "\t<tr><th scope=row>5</th><td>TCGA-3C-AAAU-10A-01D-A41E-01</td><td>1</td><td>167059760</td><td>181602002</td><td> 9213</td><td>-0.0008</td></tr>\n",
       "\t<tr><th scope=row>6</th><td>TCGA-3C-AAAU-10A-01D-A41E-01</td><td>1</td><td>181603120</td><td>181609567</td><td>    6</td><td>-1.2009</td></tr>\n",
       "</tbody>\n",
       "</table>\n"
      ],
      "text/latex": [
       "A data.frame: 6 x 6\n",
       "\\begin{tabular}{r|llllll}\n",
       "  & Sample & Chromosome & Start & End & Num\\_Probes & Segment\\_Mean\\\\\n",
       "  & <chr> & <chr> & <int> & <int> & <int> & <dbl>\\\\\n",
       "\\hline\n",
       "\t1 & TCGA-3C-AAAU-10A-01D-A41E-01 & 1 &   3218610 &  95674710 & 53225 &  0.0055\\\\\n",
       "\t2 & TCGA-3C-AAAU-10A-01D-A41E-01 & 1 &  95676511 &  95676518 &     2 & -1.6636\\\\\n",
       "\t3 & TCGA-3C-AAAU-10A-01D-A41E-01 & 1 &  95680124 & 167057183 & 24886 &  0.0053\\\\\n",
       "\t4 & TCGA-3C-AAAU-10A-01D-A41E-01 & 1 & 167057495 & 167059336 &     3 & -1.0999\\\\\n",
       "\t5 & TCGA-3C-AAAU-10A-01D-A41E-01 & 1 & 167059760 & 181602002 &  9213 & -0.0008\\\\\n",
       "\t6 & TCGA-3C-AAAU-10A-01D-A41E-01 & 1 & 181603120 & 181609567 &     6 & -1.2009\\\\\n",
       "\\end{tabular}\n"
      ],
      "text/markdown": [
       "\n",
       "A data.frame: 6 x 6\n",
       "\n",
       "| <!--/--> | Sample &lt;chr&gt; | Chromosome &lt;chr&gt; | Start &lt;int&gt; | End &lt;int&gt; | Num_Probes &lt;int&gt; | Segment_Mean &lt;dbl&gt; |\n",
       "|---|---|---|---|---|---|---|\n",
       "| 1 | TCGA-3C-AAAU-10A-01D-A41E-01 | 1 |   3218610 |  95674710 | 53225 |  0.0055 |\n",
       "| 2 | TCGA-3C-AAAU-10A-01D-A41E-01 | 1 |  95676511 |  95676518 |     2 | -1.6636 |\n",
       "| 3 | TCGA-3C-AAAU-10A-01D-A41E-01 | 1 |  95680124 | 167057183 | 24886 |  0.0053 |\n",
       "| 4 | TCGA-3C-AAAU-10A-01D-A41E-01 | 1 | 167057495 | 167059336 |     3 | -1.0999 |\n",
       "| 5 | TCGA-3C-AAAU-10A-01D-A41E-01 | 1 | 167059760 | 181602002 |  9213 | -0.0008 |\n",
       "| 6 | TCGA-3C-AAAU-10A-01D-A41E-01 | 1 | 181603120 | 181609567 |     6 | -1.2009 |\n",
       "\n"
      ],
      "text/plain": [
       "  Sample                       Chromosome Start     End       Num_Probes\n",
       "1 TCGA-3C-AAAU-10A-01D-A41E-01 1            3218610  95674710 53225     \n",
       "2 TCGA-3C-AAAU-10A-01D-A41E-01 1           95676511  95676518     2     \n",
       "3 TCGA-3C-AAAU-10A-01D-A41E-01 1           95680124 167057183 24886     \n",
       "4 TCGA-3C-AAAU-10A-01D-A41E-01 1          167057495 167059336     3     \n",
       "5 TCGA-3C-AAAU-10A-01D-A41E-01 1          167059760 181602002  9213     \n",
       "6 TCGA-3C-AAAU-10A-01D-A41E-01 1          181603120 181609567     6     \n",
       "  Segment_Mean\n",
       "1  0.0055     \n",
       "2 -1.6636     \n",
       "3  0.0053     \n",
       "4 -1.0999     \n",
       "5 -0.0008     \n",
       "6 -1.2009     "
      ]
     },
     "metadata": {},
     "output_type": "display_data"
    }
   ],
   "source": [
    "segs <- read.delim(\"/Users/sgrizzi/Desktop/TFCB_data/BRCA.genome_wide_snp_6_broad_Level_3_scna.seg\", as.is = TRUE)\n",
    "mode(segs$Chromosome) <- \"character\" \n",
    "segs[segs$Chromosome == 23, \"Chromosome\"] <- \"X\"\n",
    "segs.gr <- as(segs, \"GRanges\")\n",
    "\n",
    "head(segs)"
   ]
  },
  {
   "cell_type": "markdown",
   "id": "fb312886-34f9-4e60-98e1-cb947991cb01",
   "metadata": {},
   "source": [
    "### a. Find the segments in `segs.gr` that have *any* overlap with the region `chr8:128,746,347-128,755,810` (4 points)\n",
    "Print out the first five unique TCGA IDs."
   ]
  },
  {
   "cell_type": "code",
   "execution_count": 3,
   "id": "8d492b5a",
   "metadata": {
    "vscode": {
     "languageId": "r"
    }
   },
   "outputs": [
    {
     "name": "stdout",
     "output_type": "stream",
     "text": [
      "GRanges object with 284458 ranges and 3 metadata columns:\n",
      "           seqnames              ranges strand |                 Sample\n",
      "              <Rle>           <IRanges>  <Rle> |            <character>\n",
      "       [1]        1    3218610-95674710      * | TCGA-3C-AAAU-10A-01D..\n",
      "       [2]        1   95676511-95676518      * | TCGA-3C-AAAU-10A-01D..\n",
      "       [3]        1  95680124-167057183      * | TCGA-3C-AAAU-10A-01D..\n",
      "       [4]        1 167057495-167059336      * | TCGA-3C-AAAU-10A-01D..\n",
      "       [5]        1 167059760-181602002      * | TCGA-3C-AAAU-10A-01D..\n",
      "       ...      ...                 ...    ... .                    ...\n",
      "  [284454]       19     284018-58878226      * | TCGA-Z7-A8R6-01A-11D..\n",
      "  [284455]       20     455764-62219837      * | TCGA-Z7-A8R6-01A-11D..\n",
      "  [284456]       21   15347621-47678774      * | TCGA-Z7-A8R6-01A-11D..\n",
      "  [284457]       22   17423930-49331012      * | TCGA-Z7-A8R6-01A-11D..\n",
      "  [284458]        X   3157107-154905589      * | TCGA-Z7-A8R6-01A-11D..\n",
      "           Num_Probes Segment_Mean\n",
      "            <integer>    <numeric>\n",
      "       [1]      53225       0.0055\n",
      "       [2]          2      -1.6636\n",
      "       [3]      24886       0.0053\n",
      "       [4]          3      -1.0999\n",
      "       [5]       9213      -0.0008\n",
      "       ...        ...          ...\n",
      "  [284454]      23950      -0.1170\n",
      "  [284455]      37283       0.3435\n",
      "  [284456]      20582      -0.1117\n",
      "  [284457]      16927      -0.1231\n",
      "  [284458]      63797       0.0014\n",
      "  -------\n",
      "  seqinfo: 23 sequences from an unspecified genome; no seqlengths\n"
     ]
    }
   ],
   "source": [
    "segs.gr <- segs %>%\n",
    "  GRanges() %>%\n",
    "  print()"
   ]
  },
  {
   "cell_type": "code",
   "execution_count": 4,
   "id": "994e3f59-c2fd-4d08-9935-8236fd6242f9",
   "metadata": {
    "vscode": {
     "languageId": "r"
    }
   },
   "outputs": [
    {
     "name": "stdout",
     "output_type": "stream",
     "text": [
      "GRanges object with 1 range and 0 metadata columns:\n",
      "      seqnames              ranges strand\n",
      "         <Rle>           <IRanges>  <Rle>\n",
      "  [1]        8 128746346-128755810      *\n",
      "  -------\n",
      "  seqinfo: 1 sequence from an unspecified genome; no seqlengths\n"
     ]
    }
   ],
   "source": [
    "myGRange8 <- GRanges(seqnames = \"8\",\n",
    "                    ranges = IRanges(start = 128746346, end = 128755810))\n",
    "print(myGRange8)"
   ]
  },
  {
   "cell_type": "code",
   "execution_count": 5,
   "id": "8524a002",
   "metadata": {
    "vscode": {
     "languageId": "r"
    }
   },
   "outputs": [
    {
     "data": {
      "text/plain": [
       "GRanges object with 2200 ranges and 3 metadata columns:\n",
       "         seqnames              ranges strand |                 Sample\n",
       "            <Rle>           <IRanges>  <Rle> |            <character>\n",
       "     [1]        8  40440599-145232496      * | TCGA-3C-AAAU-10A-01D..\n",
       "     [2]        8  87789846-145232496      * | TCGA-3C-AAAU-01A-11D..\n",
       "     [3]        8    617667-145232496      * | TCGA-3C-AALI-10A-01D..\n",
       "     [4]        8  62096568-145232496      * | TCGA-3C-AALI-01A-11D..\n",
       "     [5]        8  82383848-145232496      * | TCGA-3C-AALJ-10A-01D..\n",
       "     ...      ...                 ...    ... .                    ...\n",
       "  [2196]        8  55674507-145232496      * | TCGA-XX-A89A-01A-11D..\n",
       "  [2197]        8    617667-145232496      * | TCGA-Z7-A8R5-10A-01D..\n",
       "  [2198]        8    617667-145232496      * | TCGA-Z7-A8R5-01A-42D..\n",
       "  [2199]        8 125418855-145232496      * | TCGA-Z7-A8R6-10A-01D..\n",
       "  [2200]        8 114820195-145232496      * | TCGA-Z7-A8R6-01A-11D..\n",
       "         Num_Probes Segment_Mean\n",
       "          <integer>    <numeric>\n",
       "     [1]      58252      -0.0018\n",
       "     [2]      34156       0.2819\n",
       "     [3]      81529       0.0010\n",
       "     [4]      48514       0.3373\n",
       "     [5]      36769      -0.0023\n",
       "     ...        ...          ...\n",
       "  [2196]      52447       0.1080\n",
       "  [2197]      81542       0.0001\n",
       "  [2198]      81542       0.0554\n",
       "  [2199]      12351       0.0322\n",
       "  [2200]      19014       0.6804\n",
       "  -------\n",
       "  seqinfo: 23 sequences from an unspecified genome; no seqlengths"
      ]
     },
     "metadata": {},
     "output_type": "display_data"
    }
   ],
   "source": [
    "segs.overlap <- find_overlaps(segs.gr, myGRange8)\n",
    "segs.overlap"
   ]
  },
  {
   "cell_type": "markdown",
   "id": "718c0180-55cb-411c-af90-9b091e51d091",
   "metadata": {},
   "source": [
    "### b. Find the mean of the `Segment_Mean` values for copy number segments that have *any* overlap with the region chr17:37,842,337-37,886,915. (4 points)"
   ]
  },
  {
   "cell_type": "code",
   "execution_count": 26,
   "id": "3962ce70-3f45-4d6c-ad68-4f3cd5bf65a9",
   "metadata": {
    "vscode": {
     "languageId": "r"
    }
   },
   "outputs": [
    {
     "data": {
      "text/html": [
       "<table class=\"dataframe\">\n",
       "<caption>A tibble: 6 x 8</caption>\n",
       "<thead>\n",
       "\t<tr><th scope=col>seqnames</th><th scope=col>start</th><th scope=col>end</th><th scope=col>width</th><th scope=col>strand</th><th scope=col>Sample</th><th scope=col>Num_Probes</th><th scope=col>Segment_Mean</th></tr>\n",
       "\t<tr><th scope=col>&lt;fct&gt;</th><th scope=col>&lt;int&gt;</th><th scope=col>&lt;int&gt;</th><th scope=col>&lt;int&gt;</th><th scope=col>&lt;fct&gt;</th><th scope=col>&lt;chr&gt;</th><th scope=col>&lt;int&gt;</th><th scope=col>&lt;dbl&gt;</th></tr>\n",
       "</thead>\n",
       "<tbody>\n",
       "\t<tr><td>17</td><td>  987221</td><td>73296953</td><td>72309733</td><td>*</td><td>TCGA-3C-AAAU-10A-01D-A41E-01</td><td>33859</td><td>0.0088</td></tr>\n",
       "\t<tr><td>17</td><td>25270517</td><td>73296953</td><td>48026437</td><td>*</td><td>TCGA-3C-AAAU-01A-11D-A41E-01</td><td>24226</td><td>0.1856</td></tr>\n",
       "\t<tr><td>17</td><td>  987221</td><td>80917016</td><td>79929796</td><td>*</td><td>TCGA-3C-AALI-10A-01D-A41E-01</td><td>36977</td><td>0.0057</td></tr>\n",
       "\t<tr><td>17</td><td>37341549</td><td>38148341</td><td>  806793</td><td>*</td><td>TCGA-3C-AALI-01A-11D-A41E-01</td><td>  369</td><td>2.4574</td></tr>\n",
       "\t<tr><td>17</td><td>  987221</td><td>65395076</td><td>64407856</td><td>*</td><td>TCGA-3C-AALJ-10A-01D-A41E-01</td><td>29192</td><td>0.0067</td></tr>\n",
       "\t<tr><td>17</td><td>35391467</td><td>40360643</td><td> 4969177</td><td>*</td><td>TCGA-3C-AALJ-01A-31D-A41E-01</td><td> 2305</td><td>0.6738</td></tr>\n",
       "</tbody>\n",
       "</table>\n"
      ],
      "text/latex": [
       "A tibble: 6 x 8\n",
       "\\begin{tabular}{llllllll}\n",
       " seqnames & start & end & width & strand & Sample & Num\\_Probes & Segment\\_Mean\\\\\n",
       " <fct> & <int> & <int> & <int> & <fct> & <chr> & <int> & <dbl>\\\\\n",
       "\\hline\n",
       "\t 17 &   987221 & 73296953 & 72309733 & * & TCGA-3C-AAAU-10A-01D-A41E-01 & 33859 & 0.0088\\\\\n",
       "\t 17 & 25270517 & 73296953 & 48026437 & * & TCGA-3C-AAAU-01A-11D-A41E-01 & 24226 & 0.1856\\\\\n",
       "\t 17 &   987221 & 80917016 & 79929796 & * & TCGA-3C-AALI-10A-01D-A41E-01 & 36977 & 0.0057\\\\\n",
       "\t 17 & 37341549 & 38148341 &   806793 & * & TCGA-3C-AALI-01A-11D-A41E-01 &   369 & 2.4574\\\\\n",
       "\t 17 &   987221 & 65395076 & 64407856 & * & TCGA-3C-AALJ-10A-01D-A41E-01 & 29192 & 0.0067\\\\\n",
       "\t 17 & 35391467 & 40360643 &  4969177 & * & TCGA-3C-AALJ-01A-31D-A41E-01 &  2305 & 0.6738\\\\\n",
       "\\end{tabular}\n"
      ],
      "text/markdown": [
       "\n",
       "A tibble: 6 x 8\n",
       "\n",
       "| seqnames &lt;fct&gt; | start &lt;int&gt; | end &lt;int&gt; | width &lt;int&gt; | strand &lt;fct&gt; | Sample &lt;chr&gt; | Num_Probes &lt;int&gt; | Segment_Mean &lt;dbl&gt; |\n",
       "|---|---|---|---|---|---|---|---|\n",
       "| 17 |   987221 | 73296953 | 72309733 | * | TCGA-3C-AAAU-10A-01D-A41E-01 | 33859 | 0.0088 |\n",
       "| 17 | 25270517 | 73296953 | 48026437 | * | TCGA-3C-AAAU-01A-11D-A41E-01 | 24226 | 0.1856 |\n",
       "| 17 |   987221 | 80917016 | 79929796 | * | TCGA-3C-AALI-10A-01D-A41E-01 | 36977 | 0.0057 |\n",
       "| 17 | 37341549 | 38148341 |   806793 | * | TCGA-3C-AALI-01A-11D-A41E-01 |   369 | 2.4574 |\n",
       "| 17 |   987221 | 65395076 | 64407856 | * | TCGA-3C-AALJ-10A-01D-A41E-01 | 29192 | 0.0067 |\n",
       "| 17 | 35391467 | 40360643 |  4969177 | * | TCGA-3C-AALJ-01A-31D-A41E-01 |  2305 | 0.6738 |\n",
       "\n"
      ],
      "text/plain": [
       "  seqnames start    end      width    strand Sample                      \n",
       "1 17         987221 73296953 72309733 *      TCGA-3C-AAAU-10A-01D-A41E-01\n",
       "2 17       25270517 73296953 48026437 *      TCGA-3C-AAAU-01A-11D-A41E-01\n",
       "3 17         987221 80917016 79929796 *      TCGA-3C-AALI-10A-01D-A41E-01\n",
       "4 17       37341549 38148341   806793 *      TCGA-3C-AALI-01A-11D-A41E-01\n",
       "5 17         987221 65395076 64407856 *      TCGA-3C-AALJ-10A-01D-A41E-01\n",
       "6 17       35391467 40360643  4969177 *      TCGA-3C-AALJ-01A-31D-A41E-01\n",
       "  Num_Probes Segment_Mean\n",
       "1 33859      0.0088      \n",
       "2 24226      0.1856      \n",
       "3 36977      0.0057      \n",
       "4   369      2.4574      \n",
       "5 29192      0.0067      \n",
       "6  2305      0.6738      "
      ]
     },
     "metadata": {},
     "output_type": "display_data"
    }
   ],
   "source": [
    "myGRange17 <- GRanges(seqnames = \"17\",\n",
    "                    ranges = IRanges(start = 37842337, end = 37886915))\n",
    "segs.overlap <- find_overlaps(segs.gr, myGRange17)  %>%\n",
    "    as_tibble()\n",
    "\n",
    "head(segs.overlap)\n"
   ]
  },
  {
   "cell_type": "code",
   "execution_count": 7,
   "id": "92d581dc",
   "metadata": {
    "vscode": {
     "languageId": "r"
    }
   },
   "outputs": [
    {
     "name": "stdout",
     "output_type": "stream",
     "text": [
      "[1] 0.1420197\n"
     ]
    }
   ],
   "source": [
    "segment_mean_GRange17 <- mean(segs.overlap$Segment_Mean)\n",
    "print(segment_mean_GRange17)"
   ]
  },
  {
   "cell_type": "markdown",
   "id": "6801dbdd-5e78-478d-a522-edebb9cf102b",
   "metadata": {},
   "source": [
    "### c. Find the patient sample distribution of copy number for `PIK3CA` (hg19). (6 points)\n",
    "Find the counts of samples with deletion (D; `Segment_Mean < -0.3`), neutral (N; `Segment_Mean >= -0.3 & Segment_Mean <= 0.3`), gain (G; `Segment_Mean > 0.3`) segments that have `any` overlap with `PIK3CA` gene coordinates.  \n"
   ]
  },
  {
   "cell_type": "code",
   "execution_count": 27,
   "id": "acf1096b-3275-4a8b-b522-71f0d5f31ab3",
   "metadata": {
    "vscode": {
     "languageId": "r"
    }
   },
   "outputs": [
    {
     "data": {
      "text/html": [
       "<table class=\"dataframe\">\n",
       "<caption>A tibble: 6 x 8</caption>\n",
       "<thead>\n",
       "\t<tr><th scope=col>seqnames</th><th scope=col>start</th><th scope=col>end</th><th scope=col>width</th><th scope=col>strand</th><th scope=col>Sample</th><th scope=col>Num_Probes</th><th scope=col>Segment_Mean</th></tr>\n",
       "\t<tr><th scope=col>&lt;fct&gt;</th><th scope=col>&lt;int&gt;</th><th scope=col>&lt;int&gt;</th><th scope=col>&lt;int&gt;</th><th scope=col>&lt;fct&gt;</th><th scope=col>&lt;chr&gt;</th><th scope=col>&lt;int&gt;</th><th scope=col>&lt;dbl&gt;</th></tr>\n",
       "</thead>\n",
       "<tbody>\n",
       "\t<tr><td>3</td><td> 89269219</td><td>197538677</td><td>108269459</td><td>*</td><td>TCGA-3C-AAAU-10A-01D-A41E-01</td><td>55921</td><td>-0.0034</td></tr>\n",
       "\t<tr><td>3</td><td> 98972306</td><td>197538677</td><td> 98566372</td><td>*</td><td>TCGA-3C-AAAU-01A-11D-A41E-01</td><td>52806</td><td> 0.3057</td></tr>\n",
       "\t<tr><td>3</td><td> 88436220</td><td>197538677</td><td>109102458</td><td>*</td><td>TCGA-3C-AALI-10A-01D-A41E-01</td><td>56401</td><td>-0.0030</td></tr>\n",
       "\t<tr><td>3</td><td> 93734671</td><td>197538677</td><td>103804007</td><td>*</td><td>TCGA-3C-AALI-01A-11D-A41E-01</td><td>55460</td><td> 0.3440</td></tr>\n",
       "\t<tr><td>3</td><td>161841018</td><td>181064228</td><td> 19223211</td><td>*</td><td>TCGA-3C-AALJ-10A-01D-A41E-01</td><td> 9398</td><td> 0.0054</td></tr>\n",
       "\t<tr><td>3</td><td>155525798</td><td>195032856</td><td> 39507059</td><td>*</td><td>TCGA-3C-AALJ-01A-31D-A41E-01</td><td>20796</td><td>-0.0621</td></tr>\n",
       "</tbody>\n",
       "</table>\n"
      ],
      "text/latex": [
       "A tibble: 6 x 8\n",
       "\\begin{tabular}{llllllll}\n",
       " seqnames & start & end & width & strand & Sample & Num\\_Probes & Segment\\_Mean\\\\\n",
       " <fct> & <int> & <int> & <int> & <fct> & <chr> & <int> & <dbl>\\\\\n",
       "\\hline\n",
       "\t 3 &  89269219 & 197538677 & 108269459 & * & TCGA-3C-AAAU-10A-01D-A41E-01 & 55921 & -0.0034\\\\\n",
       "\t 3 &  98972306 & 197538677 &  98566372 & * & TCGA-3C-AAAU-01A-11D-A41E-01 & 52806 &  0.3057\\\\\n",
       "\t 3 &  88436220 & 197538677 & 109102458 & * & TCGA-3C-AALI-10A-01D-A41E-01 & 56401 & -0.0030\\\\\n",
       "\t 3 &  93734671 & 197538677 & 103804007 & * & TCGA-3C-AALI-01A-11D-A41E-01 & 55460 &  0.3440\\\\\n",
       "\t 3 & 161841018 & 181064228 &  19223211 & * & TCGA-3C-AALJ-10A-01D-A41E-01 &  9398 &  0.0054\\\\\n",
       "\t 3 & 155525798 & 195032856 &  39507059 & * & TCGA-3C-AALJ-01A-31D-A41E-01 & 20796 & -0.0621\\\\\n",
       "\\end{tabular}\n"
      ],
      "text/markdown": [
       "\n",
       "A tibble: 6 x 8\n",
       "\n",
       "| seqnames &lt;fct&gt; | start &lt;int&gt; | end &lt;int&gt; | width &lt;int&gt; | strand &lt;fct&gt; | Sample &lt;chr&gt; | Num_Probes &lt;int&gt; | Segment_Mean &lt;dbl&gt; |\n",
       "|---|---|---|---|---|---|---|---|\n",
       "| 3 |  89269219 | 197538677 | 108269459 | * | TCGA-3C-AAAU-10A-01D-A41E-01 | 55921 | -0.0034 |\n",
       "| 3 |  98972306 | 197538677 |  98566372 | * | TCGA-3C-AAAU-01A-11D-A41E-01 | 52806 |  0.3057 |\n",
       "| 3 |  88436220 | 197538677 | 109102458 | * | TCGA-3C-AALI-10A-01D-A41E-01 | 56401 | -0.0030 |\n",
       "| 3 |  93734671 | 197538677 | 103804007 | * | TCGA-3C-AALI-01A-11D-A41E-01 | 55460 |  0.3440 |\n",
       "| 3 | 161841018 | 181064228 |  19223211 | * | TCGA-3C-AALJ-10A-01D-A41E-01 |  9398 |  0.0054 |\n",
       "| 3 | 155525798 | 195032856 |  39507059 | * | TCGA-3C-AALJ-01A-31D-A41E-01 | 20796 | -0.0621 |\n",
       "\n"
      ],
      "text/plain": [
       "  seqnames start     end       width     strand Sample                      \n",
       "1 3         89269219 197538677 108269459 *      TCGA-3C-AAAU-10A-01D-A41E-01\n",
       "2 3         98972306 197538677  98566372 *      TCGA-3C-AAAU-01A-11D-A41E-01\n",
       "3 3         88436220 197538677 109102458 *      TCGA-3C-AALI-10A-01D-A41E-01\n",
       "4 3         93734671 197538677 103804007 *      TCGA-3C-AALI-01A-11D-A41E-01\n",
       "5 3        161841018 181064228  19223211 *      TCGA-3C-AALJ-10A-01D-A41E-01\n",
       "6 3        155525798 195032856  39507059 *      TCGA-3C-AALJ-01A-31D-A41E-01\n",
       "  Num_Probes Segment_Mean\n",
       "1 55921      -0.0034     \n",
       "2 52806       0.3057     \n",
       "3 56401      -0.0030     \n",
       "4 55460       0.3440     \n",
       "5  9398       0.0054     \n",
       "6 20796      -0.0621     "
      ]
     },
     "metadata": {},
     "output_type": "display_data"
    }
   ],
   "source": [
    "PIK3CA <- GRanges(seqnames = \"3\",\n",
    "                    ranges = IRanges(start = 179148357, end = 179240093))\n",
    "\n",
    "segs.overlap_PIK3CA <- find_overlaps(segs.gr, PIK3CA)  %>%\n",
    "    as_tibble()\n",
    "\n",
    "head(segs.overlap_PIK3CA)"
   ]
  },
  {
   "cell_type": "code",
   "execution_count": 9,
   "id": "00a81fd8",
   "metadata": {
    "vscode": {
     "languageId": "r"
    }
   },
   "outputs": [
    {
     "name": "stdout",
     "output_type": "stream",
     "text": [
      "[1] \"Number of samples with deletion:  14\"\n",
      "[1] \"Number of samples with neutral:  2024\"\n",
      "[1] \"Number of samples with gain:  2189\"\n"
     ]
    }
   ],
   "source": [
    "PIK3CA_D <- segs.overlap_PIK3CA  %>% \n",
    "    filter( Segment_Mean < -0.3) \n",
    "PIK3CA_N <- segs.overlap_PIK3CA  %>% \n",
    "    filter(Segment_Mean >= -0.3 & Segment_Mean <= 0.3) \n",
    "PIK3CA_G <- segs.overlap_PIK3CA  %>% \n",
    "    filter(Segment_Mean > -0.3) \n",
    "\n",
    "print(paste(\"Number of samples with deletion: \", nrow(PIK3CA_D)))\n",
    "print(paste(\"Number of samples with neutral: \", nrow(PIK3CA_N)))\n",
    "print(paste(\"Number of samples with gain: \", nrow(PIK3CA_G)))"
   ]
  },
  {
   "cell_type": "markdown",
   "id": "9b119c29-e953-412e-8585-5a67568e02e3",
   "metadata": {},
   "source": [
    "# Problem 2: Frequency of copy number alteration events within genomic regions. (12 points total) \n",
    "\n",
    "This problem will continue to use the copy number data stored in `segs.gr`.\n",
    "\n",
    "### a. Create a genome-wide tile of 1Mb windows for the human genome (`hg19`). (6 points)\n",
    "See *3.1 Tiling the genome* of *Lecture16_GenomicData.Rmd* for hints.\n"
   ]
  },
  {
   "cell_type": "code",
   "execution_count": 10,
   "id": "11d9150e-c199-4cf9-8e2f-399f57e06cc8",
   "metadata": {
    "vscode": {
     "languageId": "r"
    }
   },
   "outputs": [
    {
     "name": "stderr",
     "output_type": "stream",
     "text": [
      "Warning message in (function (seqlevels, genome, new_style) :\n",
      "\"cannot switch some hg19's seqlevels from UCSC to NCBI style\"\n"
     ]
    },
    {
     "data": {
      "text/plain": [
       "Seqinfo object with 25 sequences (1 circular) from 2 genomes (GRCh37.p13, hg19):\n",
       "  seqnames seqlengths isCircular     genome\n",
       "  1         249250621      FALSE GRCh37.p13\n",
       "  2         243199373      FALSE GRCh37.p13\n",
       "  3         198022430      FALSE GRCh37.p13\n",
       "  4         191154276      FALSE GRCh37.p13\n",
       "  5         180915260      FALSE GRCh37.p13\n",
       "  ...             ...        ...        ...\n",
       "  21         48129895      FALSE GRCh37.p13\n",
       "  22         51304566      FALSE GRCh37.p13\n",
       "  X         155270560      FALSE GRCh37.p13\n",
       "  Y          59373566      FALSE GRCh37.p13\n",
       "  chrM          16571       TRUE       hg19"
      ]
     },
     "metadata": {},
     "output_type": "display_data"
    }
   ],
   "source": [
    "seqinfo <- Seqinfo(genome = \"hg19\")\n",
    "seqinfo <- keepStandardChromosomes(seqinfo) \n",
    "seqlevelsStyle(seqinfo) <- \"NCBI\"\n",
    "seqinfo"
   ]
  },
  {
   "cell_type": "code",
   "execution_count": 11,
   "id": "5f0b959e",
   "metadata": {
    "vscode": {
     "languageId": "r"
    }
   },
   "outputs": [
    {
     "data": {
      "text/plain": [
       "GRanges object with 3114 ranges and 0 metadata columns:\n",
       "         seqnames            ranges strand\n",
       "            <Rle>         <IRanges>  <Rle>\n",
       "     [1]        1         1-1000000      *\n",
       "     [2]        1   1000001-2000000      *\n",
       "     [3]        1   2000001-3000000      *\n",
       "     [4]        1   3000001-4000000      *\n",
       "     [5]        1   4000001-5000000      *\n",
       "     ...      ...               ...    ...\n",
       "  [3110]        Y 56000001-57000000      *\n",
       "  [3111]        Y 57000001-58000000      *\n",
       "  [3112]        Y 58000001-59000000      *\n",
       "  [3113]        Y 59000001-59373566      *\n",
       "  [3114]     chrM           1-16571      *\n",
       "  -------\n",
       "  seqinfo: 25 sequences from an unspecified genome"
      ]
     },
     "metadata": {},
     "output_type": "display_data"
    }
   ],
   "source": [
    "slen <- seqlengths(seqinfo) \n",
    "tileWidth <- 1000000 \n",
    "tiles <- tileGenome(seqlengths = slen, tilewidth = tileWidth,\n",
    "                    cut.last.tile.in.chrom = TRUE)\n",
    "tiles"
   ]
  },
  {
   "cell_type": "markdown",
   "id": "3601482e-48d6-41dc-9ba9-475f93ef5248",
   "metadata": {},
   "source": [
    "### b. Find the 1Mb window with the most frequent overlapping deletions. (6 points)\n",
    "Find the 1Mb windows with `any` overlap with deletion copy number segments. Assume a deletion segment is defined as a segment in `segs.gr` having `Segment_Mean < -0.3`. \n",
    "\n",
    "Return one of the 1Mb window `Granges` entry with the highest frequency (count) of deletion segments.\n",
    "\n",
    "Hint: Subset the `segs.gr` to only rows with `Segment_Mean < -0.3`. "
   ]
  },
  {
   "cell_type": "code",
   "execution_count": 28,
   "id": "aba02930",
   "metadata": {
    "vscode": {
     "languageId": "r"
    }
   },
   "outputs": [
    {
     "data": {
      "text/html": [
       "<table class=\"dataframe\">\n",
       "<caption>A tibble: 6 x 8</caption>\n",
       "<thead>\n",
       "\t<tr><th scope=col>seqnames</th><th scope=col>start</th><th scope=col>end</th><th scope=col>width</th><th scope=col>strand</th><th scope=col>Sample</th><th scope=col>Num_Probes</th><th scope=col>Segment_Mean</th></tr>\n",
       "\t<tr><th scope=col>&lt;fct&gt;</th><th scope=col>&lt;int&gt;</th><th scope=col>&lt;int&gt;</th><th scope=col>&lt;int&gt;</th><th scope=col>&lt;fct&gt;</th><th scope=col>&lt;chr&gt;</th><th scope=col>&lt;int&gt;</th><th scope=col>&lt;dbl&gt;</th></tr>\n",
       "</thead>\n",
       "<tbody>\n",
       "\t<tr><td>1</td><td>3218610</td><td>95674710</td><td>92456101</td><td>*</td><td>TCGA-3C-AAAU-10A-01D-A41E-01</td><td>53225</td><td>0.0055</td></tr>\n",
       "\t<tr><td>1</td><td>3218610</td><td>95674710</td><td>92456101</td><td>*</td><td>TCGA-3C-AAAU-10A-01D-A41E-01</td><td>53225</td><td>0.0055</td></tr>\n",
       "\t<tr><td>1</td><td>3218610</td><td>95674710</td><td>92456101</td><td>*</td><td>TCGA-3C-AAAU-10A-01D-A41E-01</td><td>53225</td><td>0.0055</td></tr>\n",
       "\t<tr><td>1</td><td>3218610</td><td>95674710</td><td>92456101</td><td>*</td><td>TCGA-3C-AAAU-10A-01D-A41E-01</td><td>53225</td><td>0.0055</td></tr>\n",
       "\t<tr><td>1</td><td>3218610</td><td>95674710</td><td>92456101</td><td>*</td><td>TCGA-3C-AAAU-10A-01D-A41E-01</td><td>53225</td><td>0.0055</td></tr>\n",
       "\t<tr><td>1</td><td>3218610</td><td>95674710</td><td>92456101</td><td>*</td><td>TCGA-3C-AAAU-10A-01D-A41E-01</td><td>53225</td><td>0.0055</td></tr>\n",
       "</tbody>\n",
       "</table>\n"
      ],
      "text/latex": [
       "A tibble: 6 x 8\n",
       "\\begin{tabular}{llllllll}\n",
       " seqnames & start & end & width & strand & Sample & Num\\_Probes & Segment\\_Mean\\\\\n",
       " <fct> & <int> & <int> & <int> & <fct> & <chr> & <int> & <dbl>\\\\\n",
       "\\hline\n",
       "\t 1 & 3218610 & 95674710 & 92456101 & * & TCGA-3C-AAAU-10A-01D-A41E-01 & 53225 & 0.0055\\\\\n",
       "\t 1 & 3218610 & 95674710 & 92456101 & * & TCGA-3C-AAAU-10A-01D-A41E-01 & 53225 & 0.0055\\\\\n",
       "\t 1 & 3218610 & 95674710 & 92456101 & * & TCGA-3C-AAAU-10A-01D-A41E-01 & 53225 & 0.0055\\\\\n",
       "\t 1 & 3218610 & 95674710 & 92456101 & * & TCGA-3C-AAAU-10A-01D-A41E-01 & 53225 & 0.0055\\\\\n",
       "\t 1 & 3218610 & 95674710 & 92456101 & * & TCGA-3C-AAAU-10A-01D-A41E-01 & 53225 & 0.0055\\\\\n",
       "\t 1 & 3218610 & 95674710 & 92456101 & * & TCGA-3C-AAAU-10A-01D-A41E-01 & 53225 & 0.0055\\\\\n",
       "\\end{tabular}\n"
      ],
      "text/markdown": [
       "\n",
       "A tibble: 6 x 8\n",
       "\n",
       "| seqnames &lt;fct&gt; | start &lt;int&gt; | end &lt;int&gt; | width &lt;int&gt; | strand &lt;fct&gt; | Sample &lt;chr&gt; | Num_Probes &lt;int&gt; | Segment_Mean &lt;dbl&gt; |\n",
       "|---|---|---|---|---|---|---|---|\n",
       "| 1 | 3218610 | 95674710 | 92456101 | * | TCGA-3C-AAAU-10A-01D-A41E-01 | 53225 | 0.0055 |\n",
       "| 1 | 3218610 | 95674710 | 92456101 | * | TCGA-3C-AAAU-10A-01D-A41E-01 | 53225 | 0.0055 |\n",
       "| 1 | 3218610 | 95674710 | 92456101 | * | TCGA-3C-AAAU-10A-01D-A41E-01 | 53225 | 0.0055 |\n",
       "| 1 | 3218610 | 95674710 | 92456101 | * | TCGA-3C-AAAU-10A-01D-A41E-01 | 53225 | 0.0055 |\n",
       "| 1 | 3218610 | 95674710 | 92456101 | * | TCGA-3C-AAAU-10A-01D-A41E-01 | 53225 | 0.0055 |\n",
       "| 1 | 3218610 | 95674710 | 92456101 | * | TCGA-3C-AAAU-10A-01D-A41E-01 | 53225 | 0.0055 |\n",
       "\n"
      ],
      "text/plain": [
       "  seqnames start   end      width    strand Sample                      \n",
       "1 1        3218610 95674710 92456101 *      TCGA-3C-AAAU-10A-01D-A41E-01\n",
       "2 1        3218610 95674710 92456101 *      TCGA-3C-AAAU-10A-01D-A41E-01\n",
       "3 1        3218610 95674710 92456101 *      TCGA-3C-AAAU-10A-01D-A41E-01\n",
       "4 1        3218610 95674710 92456101 *      TCGA-3C-AAAU-10A-01D-A41E-01\n",
       "5 1        3218610 95674710 92456101 *      TCGA-3C-AAAU-10A-01D-A41E-01\n",
       "6 1        3218610 95674710 92456101 *      TCGA-3C-AAAU-10A-01D-A41E-01\n",
       "  Num_Probes Segment_Mean\n",
       "1 53225      0.0055      \n",
       "2 53225      0.0055      \n",
       "3 53225      0.0055      \n",
       "4 53225      0.0055      \n",
       "5 53225      0.0055      \n",
       "6 53225      0.0055      "
      ]
     },
     "metadata": {},
     "output_type": "display_data"
    }
   ],
   "source": [
    "segs.overlap_1mb <- find_overlaps(segs.gr, tiles)  %>%\n",
    "    as_tibble()\n",
    "head(segs.overlap_1mb)"
   ]
  },
  {
   "cell_type": "code",
   "execution_count": 29,
   "id": "22b11795",
   "metadata": {
    "vscode": {
     "languageId": "r"
    }
   },
   "outputs": [
    {
     "data": {
      "text/html": [
       "<table class=\"dataframe\">\n",
       "<caption>A tibble: 6 x 8</caption>\n",
       "<thead>\n",
       "\t<tr><th scope=col>seqnames</th><th scope=col>start</th><th scope=col>end</th><th scope=col>width</th><th scope=col>strand</th><th scope=col>Sample</th><th scope=col>Num_Probes</th><th scope=col>Segment_Mean</th></tr>\n",
       "\t<tr><th scope=col>&lt;fct&gt;</th><th scope=col>&lt;int&gt;</th><th scope=col>&lt;int&gt;</th><th scope=col>&lt;int&gt;</th><th scope=col>&lt;fct&gt;</th><th scope=col>&lt;chr&gt;</th><th scope=col>&lt;int&gt;</th><th scope=col>&lt;dbl&gt;</th></tr>\n",
       "</thead>\n",
       "<tbody>\n",
       "\t<tr><td>17</td><td> 5960849</td><td> 5961137</td><td> 289</td><td>*</td><td>TCGA-BH-A5J0-01A-11D-A27O-01</td><td>2</td><td>-7.5883</td></tr>\n",
       "\t<tr><td>8 </td><td>11309849</td><td>11309893</td><td>  45</td><td>*</td><td>TCGA-A2-A1FW-01A-11D-A13J-01</td><td>2</td><td>-7.5751</td></tr>\n",
       "\t<tr><td>17</td><td>11835078</td><td>11839540</td><td>4463</td><td>*</td><td>TCGA-A8-A08S-01A-11D-A036-01</td><td>5</td><td>-7.5132</td></tr>\n",
       "\t<tr><td>16</td><td>66036144</td><td>66036359</td><td> 216</td><td>*</td><td>TCGA-A7-A0CJ-01A-21D-A011-01</td><td>2</td><td>-7.5064</td></tr>\n",
       "\t<tr><td>17</td><td>17411211</td><td>17415217</td><td>4007</td><td>*</td><td>TCGA-BH-A0DD-01A-31D-A12N-01</td><td>3</td><td>-7.4793</td></tr>\n",
       "\t<tr><td>1 </td><td>20561069</td><td>20561095</td><td>  27</td><td>*</td><td>TCGA-AC-A3EH-01A-22D-A227-01</td><td>2</td><td>-7.4771</td></tr>\n",
       "</tbody>\n",
       "</table>\n"
      ],
      "text/latex": [
       "A tibble: 6 x 8\n",
       "\\begin{tabular}{llllllll}\n",
       " seqnames & start & end & width & strand & Sample & Num\\_Probes & Segment\\_Mean\\\\\n",
       " <fct> & <int> & <int> & <int> & <fct> & <chr> & <int> & <dbl>\\\\\n",
       "\\hline\n",
       "\t 17 &  5960849 &  5961137 &  289 & * & TCGA-BH-A5J0-01A-11D-A27O-01 & 2 & -7.5883\\\\\n",
       "\t 8  & 11309849 & 11309893 &   45 & * & TCGA-A2-A1FW-01A-11D-A13J-01 & 2 & -7.5751\\\\\n",
       "\t 17 & 11835078 & 11839540 & 4463 & * & TCGA-A8-A08S-01A-11D-A036-01 & 5 & -7.5132\\\\\n",
       "\t 16 & 66036144 & 66036359 &  216 & * & TCGA-A7-A0CJ-01A-21D-A011-01 & 2 & -7.5064\\\\\n",
       "\t 17 & 17411211 & 17415217 & 4007 & * & TCGA-BH-A0DD-01A-31D-A12N-01 & 3 & -7.4793\\\\\n",
       "\t 1  & 20561069 & 20561095 &   27 & * & TCGA-AC-A3EH-01A-22D-A227-01 & 2 & -7.4771\\\\\n",
       "\\end{tabular}\n"
      ],
      "text/markdown": [
       "\n",
       "A tibble: 6 x 8\n",
       "\n",
       "| seqnames &lt;fct&gt; | start &lt;int&gt; | end &lt;int&gt; | width &lt;int&gt; | strand &lt;fct&gt; | Sample &lt;chr&gt; | Num_Probes &lt;int&gt; | Segment_Mean &lt;dbl&gt; |\n",
       "|---|---|---|---|---|---|---|---|\n",
       "| 17 |  5960849 |  5961137 |  289 | * | TCGA-BH-A5J0-01A-11D-A27O-01 | 2 | -7.5883 |\n",
       "| 8  | 11309849 | 11309893 |   45 | * | TCGA-A2-A1FW-01A-11D-A13J-01 | 2 | -7.5751 |\n",
       "| 17 | 11835078 | 11839540 | 4463 | * | TCGA-A8-A08S-01A-11D-A036-01 | 5 | -7.5132 |\n",
       "| 16 | 66036144 | 66036359 |  216 | * | TCGA-A7-A0CJ-01A-21D-A011-01 | 2 | -7.5064 |\n",
       "| 17 | 17411211 | 17415217 | 4007 | * | TCGA-BH-A0DD-01A-31D-A12N-01 | 3 | -7.4793 |\n",
       "| 1  | 20561069 | 20561095 |   27 | * | TCGA-AC-A3EH-01A-22D-A227-01 | 2 | -7.4771 |\n",
       "\n"
      ],
      "text/plain": [
       "  seqnames start    end      width strand Sample                      \n",
       "1 17        5960849  5961137  289  *      TCGA-BH-A5J0-01A-11D-A27O-01\n",
       "2 8        11309849 11309893   45  *      TCGA-A2-A1FW-01A-11D-A13J-01\n",
       "3 17       11835078 11839540 4463  *      TCGA-A8-A08S-01A-11D-A036-01\n",
       "4 16       66036144 66036359  216  *      TCGA-A7-A0CJ-01A-21D-A011-01\n",
       "5 17       17411211 17415217 4007  *      TCGA-BH-A0DD-01A-31D-A12N-01\n",
       "6 1        20561069 20561095   27  *      TCGA-AC-A3EH-01A-22D-A227-01\n",
       "  Num_Probes Segment_Mean\n",
       "1 2          -7.5883     \n",
       "2 2          -7.5751     \n",
       "3 5          -7.5132     \n",
       "4 2          -7.5064     \n",
       "5 3          -7.4793     \n",
       "6 2          -7.4771     "
      ]
     },
     "metadata": {},
     "output_type": "display_data"
    }
   ],
   "source": [
    "deletions_1mb <- segs.overlap_1mb  %>% \n",
    "    filter( Segment_Mean < -0.3)  %>% \n",
    "    arrange(Segment_Mean) \n",
    "\n",
    "head(deletions_1mb)"
   ]
  },
  {
   "cell_type": "code",
   "execution_count": 30,
   "id": "4752dce6",
   "metadata": {
    "vscode": {
     "languageId": "r"
    }
   },
   "outputs": [
    {
     "data": {
      "text/html": [
       "<table class=\"dataframe\">\n",
       "<caption>A tibble: 1 x 8</caption>\n",
       "<thead>\n",
       "\t<tr><th scope=col>seqnames</th><th scope=col>start</th><th scope=col>end</th><th scope=col>width</th><th scope=col>strand</th><th scope=col>Sample</th><th scope=col>Num_Probes</th><th scope=col>Segment_Mean</th></tr>\n",
       "\t<tr><th scope=col>&lt;fct&gt;</th><th scope=col>&lt;int&gt;</th><th scope=col>&lt;int&gt;</th><th scope=col>&lt;int&gt;</th><th scope=col>&lt;fct&gt;</th><th scope=col>&lt;chr&gt;</th><th scope=col>&lt;int&gt;</th><th scope=col>&lt;dbl&gt;</th></tr>\n",
       "</thead>\n",
       "<tbody>\n",
       "\t<tr><td>17</td><td>5960849</td><td>5961137</td><td>289</td><td>*</td><td>TCGA-BH-A5J0-01A-11D-A27O-01</td><td>2</td><td>-7.5883</td></tr>\n",
       "</tbody>\n",
       "</table>\n"
      ],
      "text/latex": [
       "A tibble: 1 x 8\n",
       "\\begin{tabular}{llllllll}\n",
       " seqnames & start & end & width & strand & Sample & Num\\_Probes & Segment\\_Mean\\\\\n",
       " <fct> & <int> & <int> & <int> & <fct> & <chr> & <int> & <dbl>\\\\\n",
       "\\hline\n",
       "\t 17 & 5960849 & 5961137 & 289 & * & TCGA-BH-A5J0-01A-11D-A27O-01 & 2 & -7.5883\\\\\n",
       "\\end{tabular}\n"
      ],
      "text/markdown": [
       "\n",
       "A tibble: 1 x 8\n",
       "\n",
       "| seqnames &lt;fct&gt; | start &lt;int&gt; | end &lt;int&gt; | width &lt;int&gt; | strand &lt;fct&gt; | Sample &lt;chr&gt; | Num_Probes &lt;int&gt; | Segment_Mean &lt;dbl&gt; |\n",
       "|---|---|---|---|---|---|---|---|\n",
       "| 17 | 5960849 | 5961137 | 289 | * | TCGA-BH-A5J0-01A-11D-A27O-01 | 2 | -7.5883 |\n",
       "\n"
      ],
      "text/plain": [
       "  seqnames start   end     width strand Sample                       Num_Probes\n",
       "1 17       5960849 5961137 289   *      TCGA-BH-A5J0-01A-11D-A27O-01 2         \n",
       "  Segment_Mean\n",
       "1 -7.5883     "
      ]
     },
     "metadata": {},
     "output_type": "display_data"
    }
   ],
   "source": [
    "deletions_1mb[1,]"
   ]
  },
  {
   "cell_type": "markdown",
   "id": "4021471d-985d-4799-879f-430f2449003c",
   "metadata": {
    "tags": []
   },
   "source": [
    "# Problem 3: Reading and annotating genomic variants (16 points total)\n",
    "\n",
    "### Preparation"
   ]
  },
  {
   "cell_type": "code",
   "execution_count": 15,
   "id": "8c7719ca-d70f-4deb-9e1b-afc16586501f",
   "metadata": {
    "vscode": {
     "languageId": "r"
    }
   },
   "outputs": [],
   "source": [
    "vcfFile <- \"/Users/sgrizzi/Desktop/TFCB_data/GIAB_highconf_v.3.3.2.vcf.gz\"\n",
    "vcfHead <- scanVcfHeader(vcfFile)\n",
    "myGRange8 <- GRanges(seqnames = \"8\", ranges = IRanges(start = 128700000, end = 129000000))\n",
    "vcf.param <- ScanVcfParam(which = myGRange8) "
   ]
  },
  {
   "cell_type": "markdown",
   "id": "eb4f7577-631d-42be-8413-3752869511a1",
   "metadata": {},
   "source": [
    "### a. Load variant data from VCF file `GIAB_highconf_v.3.3.2.vcf.gz` for `chr8:128,700,000-129,000,000`. (4 points)\n",
    "Note: use genome build `hg19`."
   ]
  },
  {
   "cell_type": "code",
   "execution_count": 31,
   "id": "d57ee51f-26a9-4ec0-9766-92ae74dbf36e",
   "metadata": {
    "vscode": {
     "languageId": "r"
    }
   },
   "outputs": [],
   "source": [
    "vcf <- readVcf(vcfFile, genome = \"hg19\", param = vcf.param)"
   ]
  },
  {
   "cell_type": "markdown",
   "id": "cf96e3ff-0558-40b2-8d3e-8abd8508a766",
   "metadata": {},
   "source": [
    "### b. Combine the fields of the VCF genotype information into a table. (4 points)\n",
    "You may use your choice of data objects (e.g. `data.frame`)."
   ]
  },
  {
   "cell_type": "code",
   "execution_count": null,
   "id": "8a2902dd-a1c4-4fc6-a541-47b2b133af00",
   "metadata": {
    "vscode": {
     "languageId": "r"
    }
   },
   "outputs": [],
   "source": [
    "rowRanges(vcf)"
   ]
  },
  {
   "cell_type": "code",
   "execution_count": 18,
   "id": "3d5de9ea",
   "metadata": {
    "vscode": {
     "languageId": "r"
    }
   },
   "outputs": [
    {
     "data": {
      "text/html": [
       "<table class=\"dataframe\">\n",
       "<caption>A data.frame: 8 x 4</caption>\n",
       "<thead>\n",
       "\t<tr><th scope=col>colname</th><th scope=col>Number</th><th scope=col>Type</th><th scope=col>Description</th></tr>\n",
       "\t<tr><th scope=col>&lt;chr&gt;</th><th scope=col>&lt;chr&gt;</th><th scope=col>&lt;chr&gt;</th><th scope=col>&lt;chr&gt;</th></tr>\n",
       "</thead>\n",
       "<tbody>\n",
       "\t<tr><td>GT   </td><td>1</td><td>String </td><td>Consensus Genotype across all datasets with called genotype                                                                                          </td></tr>\n",
       "\t<tr><td>DP   </td><td>1</td><td>Integer</td><td>Total read depth summed across all datasets, excluding MQ0 reads                                                                                     </td></tr>\n",
       "\t<tr><td>GQ   </td><td>1</td><td>Integer</td><td>Net Genotype quality across all datasets, calculated from GQ scores of callsets supporting the consensus GT, using only one callset from each dataset</td></tr>\n",
       "\t<tr><td>ADALL</td><td>R</td><td>Integer</td><td>Net allele depths across all datasets                                                                                                                </td></tr>\n",
       "\t<tr><td>AD   </td><td>R</td><td>Integer</td><td>Net allele depths across all unfiltered datasets with called genotype                                                                                </td></tr>\n",
       "\t<tr><td>IGT  </td><td>1</td><td>String </td><td>Original input genotype                                                                                                                              </td></tr>\n",
       "\t<tr><td>IPS  </td><td>1</td><td>String </td><td>Phase set for IGT                                                                                                                                    </td></tr>\n",
       "\t<tr><td>PS   </td><td>1</td><td>String </td><td>Phase set for GT                                                                                                                                     </td></tr>\n",
       "</tbody>\n",
       "</table>\n"
      ],
      "text/latex": [
       "A data.frame: 8 x 4\n",
       "\\begin{tabular}{llll}\n",
       " colname & Number & Type & Description\\\\\n",
       " <chr> & <chr> & <chr> & <chr>\\\\\n",
       "\\hline\n",
       "\t GT    & 1 & String  & Consensus Genotype across all datasets with called genotype                                                                                          \\\\\n",
       "\t DP    & 1 & Integer & Total read depth summed across all datasets, excluding MQ0 reads                                                                                     \\\\\n",
       "\t GQ    & 1 & Integer & Net Genotype quality across all datasets, calculated from GQ scores of callsets supporting the consensus GT, using only one callset from each dataset\\\\\n",
       "\t ADALL & R & Integer & Net allele depths across all datasets                                                                                                                \\\\\n",
       "\t AD    & R & Integer & Net allele depths across all unfiltered datasets with called genotype                                                                                \\\\\n",
       "\t IGT   & 1 & String  & Original input genotype                                                                                                                              \\\\\n",
       "\t IPS   & 1 & String  & Phase set for IGT                                                                                                                                    \\\\\n",
       "\t PS    & 1 & String  & Phase set for GT                                                                                                                                     \\\\\n",
       "\\end{tabular}\n"
      ],
      "text/markdown": [
       "\n",
       "A data.frame: 8 x 4\n",
       "\n",
       "| colname &lt;chr&gt; | Number &lt;chr&gt; | Type &lt;chr&gt; | Description &lt;chr&gt; |\n",
       "|---|---|---|---|\n",
       "| GT    | 1 | String  | Consensus Genotype across all datasets with called genotype                                                                                           |\n",
       "| DP    | 1 | Integer | Total read depth summed across all datasets, excluding MQ0 reads                                                                                      |\n",
       "| GQ    | 1 | Integer | Net Genotype quality across all datasets, calculated from GQ scores of callsets supporting the consensus GT, using only one callset from each dataset |\n",
       "| ADALL | R | Integer | Net allele depths across all datasets                                                                                                                 |\n",
       "| AD    | R | Integer | Net allele depths across all unfiltered datasets with called genotype                                                                                 |\n",
       "| IGT   | 1 | String  | Original input genotype                                                                                                                               |\n",
       "| IPS   | 1 | String  | Phase set for IGT                                                                                                                                     |\n",
       "| PS    | 1 | String  | Phase set for GT                                                                                                                                      |\n",
       "\n"
      ],
      "text/plain": [
       "  colname Number Type   \n",
       "1 GT      1      String \n",
       "2 DP      1      Integer\n",
       "3 GQ      1      Integer\n",
       "4 ADALL   R      Integer\n",
       "5 AD      R      Integer\n",
       "6 IGT     1      String \n",
       "7 IPS     1      String \n",
       "8 PS      1      String \n",
       "  Description                                                                                                                                          \n",
       "1 Consensus Genotype across all datasets with called genotype                                                                                          \n",
       "2 Total read depth summed across all datasets, excluding MQ0 reads                                                                                     \n",
       "3 Net Genotype quality across all datasets, calculated from GQ scores of callsets supporting the consensus GT, using only one callset from each dataset\n",
       "4 Net allele depths across all datasets                                                                                                                \n",
       "5 Net allele depths across all unfiltered datasets with called genotype                                                                                \n",
       "6 Original input genotype                                                                                                                              \n",
       "7 Phase set for IGT                                                                                                                                    \n",
       "8 Phase set for GT                                                                                                                                     "
      ]
     },
     "metadata": {},
     "output_type": "display_data"
    }
   ],
   "source": [
    "geno(header(vcf)) %>%\n",
    "  as.data.frame() %>%\n",
    "  rownames_to_column(\"colname\")"
   ]
  },
  {
   "cell_type": "markdown",
   "id": "866dc73a-e254-4605-9d8c-750fdafba481",
   "metadata": {},
   "source": [
    "### c. Retrieve the following information at chr8:128747953. (8 points)\n",
    "Print out the SNP ID (i.e. \"rs ID\"), reference base (`REF`), alterate base (`ALT`), genotype (`GT`), depth (`DP`), allele depth (`ADALL`), phase set (`PS`).\n",
    "\n",
    "Hints: \n",
    "\n",
    "  i. `REF` and `ALT` are in the output of `rowRanges(vcf)`. See Section `3a` in `Lecture16_VariantCalls.ipynb` \n",
    "  ii. To get the sequence of `DNAString`, use `as.character(x)`.  \n",
    "  ii. To get the sequence of `DNAStringSet`, use `as.character(unlist(x))`. \n",
    "  iii. To expand a list of information for `geno`, use `unlist(x)`.  \n",
    "\n",
    "  "
   ]
  },
  {
   "cell_type": "code",
   "execution_count": 19,
   "id": "fa8d8ad6-7d4b-43f2-a3ae-25a86be3d243",
   "metadata": {
    "vscode": {
     "languageId": "r"
    }
   },
   "outputs": [],
   "source": [
    "myGRange8 <- GRanges(seqnames = \"8\",\n",
    "                    ranges = IRanges(start = 128747953, end = 128747953))\n",
    "vcf.param8 <- ScanVcfParam(which = myGRange8) \n",
    "vcf8 <- readVcf(vcfFile, genome = \"hg19\", param = vcf.param8) "
   ]
  },
  {
   "cell_type": "code",
   "execution_count": 20,
   "id": "93b03a31",
   "metadata": {
    "vscode": {
     "languageId": "r"
    }
   },
   "outputs": [
    {
     "data": {
      "text/html": [
       "<table class=\"dataframe\">\n",
       "<caption>A data.frame: 1 x 2</caption>\n",
       "<thead>\n",
       "\t<tr><th></th><th scope=col>REF</th><th scope=col>ALT</th></tr>\n",
       "\t<tr><th></th><th scope=col>&lt;chr&gt;</th><th scope=col>&lt;list&gt;</th></tr>\n",
       "</thead>\n",
       "<tbody>\n",
       "\t<tr><th scope=row>rs3824120</th><td>G</td><td>T</td></tr>\n",
       "</tbody>\n",
       "</table>\n"
      ],
      "text/latex": [
       "A data.frame: 1 x 2\n",
       "\\begin{tabular}{r|ll}\n",
       "  & REF & ALT\\\\\n",
       "  & <chr> & <list>\\\\\n",
       "\\hline\n",
       "\trs3824120 & G & T\\\\\n",
       "\\end{tabular}\n"
      ],
      "text/markdown": [
       "\n",
       "A data.frame: 1 x 2\n",
       "\n",
       "| <!--/--> | REF &lt;chr&gt; | ALT &lt;list&gt; |\n",
       "|---|---|---|\n",
       "| rs3824120 | G | T |\n",
       "\n"
      ],
      "text/plain": [
       "          REF ALT\n",
       "rs3824120 G   T  "
      ]
     },
     "metadata": {},
     "output_type": "display_data"
    }
   ],
   "source": [
    "vcf8_seq <- rowRanges(vcf8)  %>% \n",
    "    as.data.frame()  %>% \n",
    "    dplyr::select(c(REF, ALT))\n",
    "vcf8_seq"
   ]
  },
  {
   "cell_type": "code",
   "execution_count": 21,
   "id": "9e95d2ba",
   "metadata": {
    "vscode": {
     "languageId": "r"
    }
   },
   "outputs": [
    {
     "name": "stderr",
     "output_type": "stream",
     "text": [
      "\u001b[1m\u001b[22mNew names:\n",
      "\u001b[36m*\u001b[39m `HG001` -> `HG001...1`\n",
      "\u001b[36m*\u001b[39m `HG001` -> `HG001...2`\n",
      "\u001b[36m*\u001b[39m `HG001` -> `HG001...3`\n",
      "\u001b[36m*\u001b[39m `HG001` -> `HG001...4`\n",
      "\u001b[36m*\u001b[39m `HG001` -> `HG001...5`\n",
      "\u001b[36m*\u001b[39m `HG001` -> `HG001...6`\n",
      "\u001b[36m*\u001b[39m `HG001` -> `HG001...7`\n",
      "\u001b[36m*\u001b[39m `HG001` -> `HG001...8`\n"
     ]
    },
    {
     "data": {
      "text/html": [
       "<table class=\"dataframe\">\n",
       "<caption>A data.frame: 1 x 8</caption>\n",
       "<thead>\n",
       "\t<tr><th></th><th scope=col>GT</th><th scope=col>DP</th><th scope=col>GQ</th><th scope=col>ADALL</th><th scope=col>AD</th><th scope=col>IGT</th><th scope=col>IPS</th><th scope=col>PS</th></tr>\n",
       "\t<tr><th></th><th scope=col>&lt;chr&gt;</th><th scope=col>&lt;int&gt;</th><th scope=col>&lt;int&gt;</th><th scope=col>&lt;list&gt;</th><th scope=col>&lt;list&gt;</th><th scope=col>&lt;chr&gt;</th><th scope=col>&lt;chr&gt;</th><th scope=col>&lt;chr&gt;</th></tr>\n",
       "</thead>\n",
       "<tbody>\n",
       "\t<tr><th scope=row>rs3824120</th><td>0|1</td><td>461</td><td>668</td><td>105, 94</td><td>128, 121</td><td>0/1</td><td>.</td><td>PATMAT</td></tr>\n",
       "</tbody>\n",
       "</table>\n"
      ],
      "text/latex": [
       "A data.frame: 1 x 8\n",
       "\\begin{tabular}{r|llllllll}\n",
       "  & GT & DP & GQ & ADALL & AD & IGT & IPS & PS\\\\\n",
       "  & <chr> & <int> & <int> & <list> & <list> & <chr> & <chr> & <chr>\\\\\n",
       "\\hline\n",
       "\trs3824120 & 0\\textbar{}1 & 461 & 668 & 105, 94 & 128, 121 & 0/1 & . & PATMAT\\\\\n",
       "\\end{tabular}\n"
      ],
      "text/markdown": [
       "\n",
       "A data.frame: 1 x 8\n",
       "\n",
       "| <!--/--> | GT &lt;chr&gt; | DP &lt;int&gt; | GQ &lt;int&gt; | ADALL &lt;list&gt; | AD &lt;list&gt; | IGT &lt;chr&gt; | IPS &lt;chr&gt; | PS &lt;chr&gt; |\n",
       "|---|---|---|---|---|---|---|---|---|\n",
       "| rs3824120 | 0|1 | 461 | 668 | 105, 94 | 128, 121 | 0/1 | . | PATMAT |\n",
       "\n"
      ],
      "text/plain": [
       "          GT  DP  GQ  ADALL   AD       IGT IPS PS    \n",
       "rs3824120 0|1 461 668 105, 94 128, 121 0/1 .   PATMAT"
      ]
     },
     "metadata": {},
     "output_type": "display_data"
    }
   ],
   "source": [
    "genoData8 <- bind_cols(lapply(geno(vcf8), as.data.frame))\n",
    "colnames(genoData8) <- rownames(geno(header(vcf8)))\n",
    "genoData8"
   ]
  },
  {
   "cell_type": "code",
   "execution_count": 22,
   "id": "b9e6e3e9",
   "metadata": {
    "vscode": {
     "languageId": "r"
    }
   },
   "outputs": [
    {
     "data": {
      "text/html": [
       "<table class=\"dataframe\">\n",
       "<caption>A data.frame: 1 x 10</caption>\n",
       "<thead>\n",
       "\t<tr><th></th><th scope=col>GT</th><th scope=col>DP</th><th scope=col>GQ</th><th scope=col>ADALL</th><th scope=col>AD</th><th scope=col>IGT</th><th scope=col>IPS</th><th scope=col>PS</th><th scope=col>REF</th><th scope=col>ALT</th></tr>\n",
       "\t<tr><th></th><th scope=col>&lt;chr&gt;</th><th scope=col>&lt;int&gt;</th><th scope=col>&lt;int&gt;</th><th scope=col>&lt;list&gt;</th><th scope=col>&lt;list&gt;</th><th scope=col>&lt;chr&gt;</th><th scope=col>&lt;chr&gt;</th><th scope=col>&lt;chr&gt;</th><th scope=col>&lt;chr&gt;</th><th scope=col>&lt;list&gt;</th></tr>\n",
       "</thead>\n",
       "<tbody>\n",
       "\t<tr><th scope=row>rs3824120</th><td>0|1</td><td>461</td><td>668</td><td>105, 94</td><td>128, 121</td><td>0/1</td><td>.</td><td>PATMAT</td><td>G</td><td>T</td></tr>\n",
       "</tbody>\n",
       "</table>\n"
      ],
      "text/latex": [
       "A data.frame: 1 x 10\n",
       "\\begin{tabular}{r|llllllllll}\n",
       "  & GT & DP & GQ & ADALL & AD & IGT & IPS & PS & REF & ALT\\\\\n",
       "  & <chr> & <int> & <int> & <list> & <list> & <chr> & <chr> & <chr> & <chr> & <list>\\\\\n",
       "\\hline\n",
       "\trs3824120 & 0\\textbar{}1 & 461 & 668 & 105, 94 & 128, 121 & 0/1 & . & PATMAT & G & T\\\\\n",
       "\\end{tabular}\n"
      ],
      "text/markdown": [
       "\n",
       "A data.frame: 1 x 10\n",
       "\n",
       "| <!--/--> | GT &lt;chr&gt; | DP &lt;int&gt; | GQ &lt;int&gt; | ADALL &lt;list&gt; | AD &lt;list&gt; | IGT &lt;chr&gt; | IPS &lt;chr&gt; | PS &lt;chr&gt; | REF &lt;chr&gt; | ALT &lt;list&gt; |\n",
       "|---|---|---|---|---|---|---|---|---|---|---|\n",
       "| rs3824120 | 0|1 | 461 | 668 | 105, 94 | 128, 121 | 0/1 | . | PATMAT | G | T |\n",
       "\n"
      ],
      "text/plain": [
       "          GT  DP  GQ  ADALL   AD       IGT IPS PS     REF ALT\n",
       "rs3824120 0|1 461 668 105, 94 128, 121 0/1 .   PATMAT G   T  "
      ]
     },
     "metadata": {},
     "output_type": "display_data"
    }
   ],
   "source": [
    "SNP_8 <- cbind(genoData8, vcf8_seq)\n",
    "SNP_8"
   ]
  }
 ],
 "metadata": {
  "kernelspec": {
   "display_name": "R",
   "language": "R",
   "name": "ir"
  },
  "language_info": {
   "codemirror_mode": "r",
   "file_extension": ".r",
   "mimetype": "text/x-r-source",
   "name": "R",
   "pygments_lexer": "r",
   "version": "4.4.1"
  }
 },
 "nbformat": 4,
 "nbformat_minor": 5
}
