{
 "cells": [
  {
   "cell_type": "markdown",
   "id": "b5480d1d-59d0-4c46-94de-88da8f93e305",
   "metadata": {
    "tags": []
   },
   "source": [
    "# `GenomicRanges` Object to Store Genomic Data\n",
    "\n",
    "Genomic data is often described using chromosomes and coordinates. A locus can be a single base position or a region that includes a start and end coordinate. In R, there is a Bioconductor package called `GenomicRanges` that stores this in a convenient structure for efficient querying using routine operations. `GRanges` object class is in which genomic data will be stored. We will demonstrate the most common operation, `findOverlaps`, to determine intersecting positions or regions in the genome. See https://bioconductor.org/packages/release/bioc/vignettes/GenomicRanges/inst/doc/GenomicRangesIntroduction.html\n",
    "\n",
    "An additional package called `plyranges` provides convenient syntax similar to that used in `tidyverse` to manipulate and apply operations on `Granges` objects. See https://www.bioconductor.org/packages/devel/bioc/vignettes/plyranges/inst/doc/an-introduction.html\n",
    "\n",
    "In this tutorial, we will work with The Cancer Genome Atlas (TCGA) data for primary breast cancer patient samples. Specifically, these are segmentation data used for copy number alteration analysis. See Lecture 16: Slide 47.\n",
    "\n"
   ]
  },
  {
   "cell_type": "markdown",
   "id": "9a5d67aa-4a23-41da-a1ac-a9425afa9de8",
   "metadata": {},
   "source": [
    "## 0. Load the `GenomicRanges` Bioconductor package"
   ]
  },
  {
   "cell_type": "code",
   "execution_count": 2,
   "id": "6f1c4d84-3e24-48a0-8faa-69ecf66a6cad",
   "metadata": {
    "vscode": {
     "languageId": "r"
    }
   },
   "outputs": [],
   "source": [
    "#Sys.unsetenv(\"DISPLAY\")\n",
    "\n",
    "suppressPackageStartupMessages({\n",
    "    library(tidyverse)\n",
    "    library(GenomicRanges)\n",
    "    library(plyranges)\n",
    "    #library(VariantAnnotation)\n",
    "    #library(Rsamtools)\n",
    "})"
   ]
  },
  {
   "cell_type": "markdown",
   "id": "43262063-f461-4338-a941-2039a9c49daa",
   "metadata": {},
   "source": [
    "## 1. Create a GRanges object.\n",
    "A `GRanges` object must contain an attribute called `seqnames` to represent chromosomes and `ranges` attribute to represent the `start` and `end` coordinates. The range is 1-index-based (as opposed to 0-index), The `start` and `end` can be the same value if it is a single base-pair.  "
   ]
  },
  {
   "cell_type": "code",
   "execution_count": 6,
   "id": "74547f46-b65d-4240-8abb-a9556d8e3aee",
   "metadata": {
    "vscode": {
     "languageId": "r"
    }
   },
   "outputs": [
    {
     "data": {
      "text/plain": [
       "GRanges object with 1 range and 0 metadata columns:\n",
       "      seqnames    ranges strand\n",
       "         <Rle> <IRanges>  <Rle>\n",
       "  [1]       17  37844393      *\n",
       "  -------\n",
       "  seqinfo: 1 sequence from an unspecified genome; no seqlengths"
      ]
     },
     "metadata": {},
     "output_type": "display_data"
    }
   ],
   "source": [
    "myGRange <- GRanges(seqnames = \"17\",\n",
    "                    ranges = IRanges(start = 37844393, end = 37844393))\n",
    "\n",
    "myGRange"
   ]
  },
  {
   "cell_type": "markdown",
   "id": "fab8315c-f5df-45c7-be32-4e2966e6d900",
   "metadata": {},
   "source": [
    "Alternatively, using `plyranges` we can use familiar syntax to create the same `GRanges` object."
   ]
  },
  {
   "cell_type": "code",
   "execution_count": 7,
   "id": "7ff1c62e-af45-463e-891c-bcbe87163178",
   "metadata": {
    "vscode": {
     "languageId": "r"
    }
   },
   "outputs": [
    {
     "name": "stdout",
     "output_type": "stream",
     "text": [
      "GRanges object with 1 range and 0 metadata columns:\n",
      "      seqnames    ranges strand\n",
      "         <Rle> <IRanges>  <Rle>\n",
      "  [1]       17  37844393      *\n",
      "  -------\n",
      "  seqinfo: 1 sequence from an unspecified genome; no seqlengths\n"
     ]
    }
   ],
   "source": [
    "myGRange <- data.frame(seqnames = \"17\", start = 37844393, end = 37844393) %>% as_granges()  %>% print()"
   ]
  },
  {
   "cell_type": "markdown",
   "id": "23852a67-dd82-4160-8510-c8ed4ecbb6e8",
   "metadata": {
    "tags": []
   },
   "source": [
    "## 2. Load Genomic Data From A File\n",
    "There are numerous text file formats for representing genomic data and some of these were discussed in Lecture 16. Here, we will show you that a `GRanges` can be easily created from any text file that contains delimited columns specifying genomic coorindates.\n",
    "\n",
    "### 2.1 SEG format\n",
    "SEGment Data (http://software.broadinstitute.org/software/igv/SEG) format is tab-delimited and a flexible way to define any genomic data.\n",
    "\n",
    "There are 4 required columns:\n",
    "\n",
    "  1. Name\n",
    "  2. Chromosome\n",
    "  3. Start Coordinate\n",
    "  4. End Coordinate\n",
    "\n",
    "This is similar to the BED file format but with the additional requirement for *Name* as the first column.\n",
    "\n",
    "### a. Load the SEG file containing the segments into a `data.frame` object."
   ]
  },
  {
   "cell_type": "code",
   "execution_count": 14,
   "id": "02ecd8cf",
   "metadata": {
    "vscode": {
     "languageId": "r"
    }
   },
   "outputs": [
    {
     "name": "stderr",
     "output_type": "stream",
     "text": [
      "also installing the dependency 'snakecase'\n",
      "\n",
      "\n"
     ]
    },
    {
     "name": "stdout",
     "output_type": "stream",
     "text": [
      "\n",
      "The downloaded binary packages are in\n",
      "\t/var/folders/mc/f3s_v4bd123dbbh9szllycmh0000gn/T//RtmpI6HEWY/downloaded_packages\n"
     ]
    }
   ],
   "source": [
    "install.packages(\"janitor\")"
   ]
  },
  {
   "cell_type": "code",
   "execution_count": 19,
   "id": "199d73fb-1c0b-40a1-839d-e9c564241d97",
   "metadata": {
    "vscode": {
     "languageId": "r"
    }
   },
   "outputs": [
    {
     "data": {
      "text/html": [
       "<table class=\"dataframe\">\n",
       "<caption>A data.frame: 284458 x 6</caption>\n",
       "<thead>\n",
       "\t<tr><th scope=col>Sample</th><th scope=col>Chromosome</th><th scope=col>Start</th><th scope=col>End</th><th scope=col>Num_Probes</th><th scope=col>Segment_Mean</th></tr>\n",
       "\t<tr><th scope=col>&lt;chr&gt;</th><th scope=col>&lt;int&gt;</th><th scope=col>&lt;int&gt;</th><th scope=col>&lt;int&gt;</th><th scope=col>&lt;int&gt;</th><th scope=col>&lt;dbl&gt;</th></tr>\n",
       "</thead>\n",
       "<tbody>\n",
       "\t<tr><td>TCGA-3C-AAAU-10A-01D-A41E-01</td><td>1</td><td>  3218610</td><td> 95674710</td><td> 53225</td><td> 0.0055</td></tr>\n",
       "\t<tr><td>TCGA-3C-AAAU-10A-01D-A41E-01</td><td>1</td><td> 95676511</td><td> 95676518</td><td>     2</td><td>-1.6636</td></tr>\n",
       "\t<tr><td>TCGA-3C-AAAU-10A-01D-A41E-01</td><td>1</td><td> 95680124</td><td>167057183</td><td> 24886</td><td> 0.0053</td></tr>\n",
       "\t<tr><td>TCGA-3C-AAAU-10A-01D-A41E-01</td><td>1</td><td>167057495</td><td>167059336</td><td>     3</td><td>-1.0999</td></tr>\n",
       "\t<tr><td>TCGA-3C-AAAU-10A-01D-A41E-01</td><td>1</td><td>167059760</td><td>181602002</td><td>  9213</td><td>-0.0008</td></tr>\n",
       "\t<tr><td>TCGA-3C-AAAU-10A-01D-A41E-01</td><td>1</td><td>181603120</td><td>181609567</td><td>     6</td><td>-1.2009</td></tr>\n",
       "\t<tr><td>TCGA-3C-AAAU-10A-01D-A41E-01</td><td>1</td><td>181610685</td><td>201473647</td><td> 12002</td><td> 0.0055</td></tr>\n",
       "\t<tr><td>TCGA-3C-AAAU-10A-01D-A41E-01</td><td>1</td><td>201474400</td><td>201474544</td><td>     2</td><td>-1.4235</td></tr>\n",
       "\t<tr><td>TCGA-3C-AAAU-10A-01D-A41E-01</td><td>1</td><td>201475220</td><td>247813706</td><td> 29781</td><td>-0.0004</td></tr>\n",
       "\t<tr><td>TCGA-3C-AAAU-10A-01D-A41E-01</td><td>2</td><td>   484222</td><td> 51515129</td><td> 30300</td><td> 0.0044</td></tr>\n",
       "\t<tr><td>TCGA-3C-AAAU-10A-01D-A41E-01</td><td>2</td><td> 51517041</td><td> 51524666</td><td>    11</td><td>-1.1753</td></tr>\n",
       "\t<tr><td>TCGA-3C-AAAU-10A-01D-A41E-01</td><td>2</td><td> 51525025</td><td>242476062</td><td>100972</td><td> 0.0041</td></tr>\n",
       "\t<tr><td>TCGA-3C-AAAU-10A-01D-A41E-01</td><td>3</td><td>  2212571</td><td>  2283296</td><td>    51</td><td> 0.0341</td></tr>\n",
       "\t<tr><td>TCGA-3C-AAAU-10A-01D-A41E-01</td><td>3</td><td>  2283337</td><td>  2285495</td><td>     2</td><td>-1.2873</td></tr>\n",
       "\t<tr><td>TCGA-3C-AAAU-10A-01D-A41E-01</td><td>3</td><td>  2285508</td><td> 13895817</td><td>  6969</td><td>-0.0065</td></tr>\n",
       "\t<tr><td>TCGA-3C-AAAU-10A-01D-A41E-01</td><td>3</td><td> 13897245</td><td> 13897406</td><td>     2</td><td>-1.4347</td></tr>\n",
       "\t<tr><td>TCGA-3C-AAAU-10A-01D-A41E-01</td><td>3</td><td> 13897885</td><td> 89268266</td><td> 43418</td><td>-0.0033</td></tr>\n",
       "\t<tr><td>TCGA-3C-AAAU-10A-01D-A41E-01</td><td>3</td><td> 89268644</td><td> 89268812</td><td>     6</td><td> 0.8839</td></tr>\n",
       "\t<tr><td>TCGA-3C-AAAU-10A-01D-A41E-01</td><td>3</td><td> 89269219</td><td>197538677</td><td> 55921</td><td>-0.0034</td></tr>\n",
       "\t<tr><td>TCGA-3C-AAAU-10A-01D-A41E-01</td><td>4</td><td>  1053934</td><td>162477082</td><td> 89190</td><td>-0.0037</td></tr>\n",
       "\t<tr><td>TCGA-3C-AAAU-10A-01D-A41E-01</td><td>4</td><td>162477184</td><td>162480449</td><td>     2</td><td>-2.0920</td></tr>\n",
       "\t<tr><td>TCGA-3C-AAAU-10A-01D-A41E-01</td><td>4</td><td>162480911</td><td>188763651</td><td> 13535</td><td>-0.0031</td></tr>\n",
       "\t<tr><td>TCGA-3C-AAAU-10A-01D-A41E-01</td><td>5</td><td>   914233</td><td> 71249846</td><td> 37419</td><td> 0.0048</td></tr>\n",
       "\t<tr><td>TCGA-3C-AAAU-10A-01D-A41E-01</td><td>5</td><td> 71252854</td><td> 71253149</td><td>     2</td><td> 1.1995</td></tr>\n",
       "\t<tr><td>TCGA-3C-AAAU-10A-01D-A41E-01</td><td>5</td><td> 71257317</td><td>108310673</td><td> 19508</td><td>-0.0002</td></tr>\n",
       "\t<tr><td>TCGA-3C-AAAU-10A-01D-A41E-01</td><td>5</td><td>108311484</td><td>108314037</td><td>     2</td><td>-2.0029</td></tr>\n",
       "\t<tr><td>TCGA-3C-AAAU-10A-01D-A41E-01</td><td>5</td><td>108321827</td><td>180360469</td><td> 43558</td><td>-0.0034</td></tr>\n",
       "\t<tr><td>TCGA-3C-AAAU-10A-01D-A41E-01</td><td>6</td><td>  1014281</td><td>161012443</td><td> 91579</td><td>-0.0003</td></tr>\n",
       "\t<tr><td>TCGA-3C-AAAU-10A-01D-A41E-01</td><td>6</td><td>161014499</td><td>161014935</td><td>     5</td><td>-0.9912</td></tr>\n",
       "\t<tr><td>TCGA-3C-AAAU-10A-01D-A41E-01</td><td>6</td><td>161015250</td><td>170903919</td><td>  4896</td><td>-0.0061</td></tr>\n",
       "\t<tr><td>...</td><td>...</td><td>...</td><td>...</td><td>...</td><td>...</td></tr>\n",
       "\t<tr><td>TCGA-Z7-A8R6-01A-11D-A41E-01</td><td>16</td><td>50378387</td><td> 50409140</td><td>   13</td><td>-0.2206</td></tr>\n",
       "\t<tr><td>TCGA-Z7-A8R6-01A-11D-A41E-01</td><td>16</td><td>50413232</td><td> 50896231</td><td>  304</td><td>-0.8551</td></tr>\n",
       "\t<tr><td>TCGA-Z7-A8R6-01A-11D-A41E-01</td><td>16</td><td>50897293</td><td> 52478911</td><td> 1201</td><td>-0.0861</td></tr>\n",
       "\t<tr><td>TCGA-Z7-A8R6-01A-11D-A41E-01</td><td>16</td><td>52479771</td><td> 52502318</td><td>   17</td><td>-0.7968</td></tr>\n",
       "\t<tr><td>TCGA-Z7-A8R6-01A-11D-A41E-01</td><td>16</td><td>52503294</td><td> 53539614</td><td>  792</td><td>-0.0344</td></tr>\n",
       "\t<tr><td>TCGA-Z7-A8R6-01A-11D-A41E-01</td><td>16</td><td>53540891</td><td> 53541478</td><td>    5</td><td>-0.7512</td></tr>\n",
       "\t<tr><td>TCGA-Z7-A8R6-01A-11D-A41E-01</td><td>16</td><td>53544993</td><td> 53809312</td><td>  169</td><td>-0.0239</td></tr>\n",
       "\t<tr><td>TCGA-Z7-A8R6-01A-11D-A41E-01</td><td>16</td><td>53810014</td><td> 56977898</td><td> 2295</td><td>-0.8173</td></tr>\n",
       "\t<tr><td>TCGA-Z7-A8R6-01A-11D-A41E-01</td><td>16</td><td>56980908</td><td> 56985139</td><td>    3</td><td>-2.9576</td></tr>\n",
       "\t<tr><td>TCGA-Z7-A8R6-01A-11D-A41E-01</td><td>16</td><td>56990716</td><td> 71396135</td><td> 8086</td><td>-0.8084</td></tr>\n",
       "\t<tr><td>TCGA-Z7-A8R6-01A-11D-A41E-01</td><td>16</td><td>71396172</td><td> 71396290</td><td>    2</td><td>-2.9477</td></tr>\n",
       "\t<tr><td>TCGA-Z7-A8R6-01A-11D-A41E-01</td><td>16</td><td>71402607</td><td> 89379936</td><td>11807</td><td>-0.8337</td></tr>\n",
       "\t<tr><td>TCGA-Z7-A8R6-01A-11D-A41E-01</td><td>17</td><td>  987221</td><td> 16412342</td><td> 7775</td><td>-0.7719</td></tr>\n",
       "\t<tr><td>TCGA-Z7-A8R6-01A-11D-A41E-01</td><td>17</td><td>16416773</td><td> 17967990</td><td>  742</td><td>-0.0520</td></tr>\n",
       "\t<tr><td>TCGA-Z7-A8R6-01A-11D-A41E-01</td><td>17</td><td>17970035</td><td> 18860763</td><td>  300</td><td>-0.7827</td></tr>\n",
       "\t<tr><td>TCGA-Z7-A8R6-01A-11D-A41E-01</td><td>17</td><td>19152102</td><td> 31228629</td><td> 3435</td><td>-0.0533</td></tr>\n",
       "\t<tr><td>TCGA-Z7-A8R6-01A-11D-A41E-01</td><td>17</td><td>31234127</td><td> 31804569</td><td>  565</td><td>-0.8084</td></tr>\n",
       "\t<tr><td>TCGA-Z7-A8R6-01A-11D-A41E-01</td><td>17</td><td>31804984</td><td> 55880090</td><td>11551</td><td>-0.0508</td></tr>\n",
       "\t<tr><td>TCGA-Z7-A8R6-01A-11D-A41E-01</td><td>17</td><td>55882611</td><td> 56164541</td><td>  161</td><td>-0.7452</td></tr>\n",
       "\t<tr><td>TCGA-Z7-A8R6-01A-11D-A41E-01</td><td>17</td><td>56171979</td><td> 80917016</td><td>12426</td><td>-0.0470</td></tr>\n",
       "\t<tr><td>TCGA-Z7-A8R6-01A-11D-A41E-01</td><td>18</td><td>  329586</td><td> 61806634</td><td>35216</td><td>-0.0704</td></tr>\n",
       "\t<tr><td>TCGA-Z7-A8R6-01A-11D-A41E-01</td><td>18</td><td>61809405</td><td> 61809922</td><td>    2</td><td>-2.0272</td></tr>\n",
       "\t<tr><td>TCGA-Z7-A8R6-01A-11D-A41E-01</td><td>18</td><td>61810012</td><td> 68327958</td><td> 3298</td><td>-0.0799</td></tr>\n",
       "\t<tr><td>TCGA-Z7-A8R6-01A-11D-A41E-01</td><td>18</td><td>68337362</td><td> 68343590</td><td>    9</td><td>-0.7669</td></tr>\n",
       "\t<tr><td>TCGA-Z7-A8R6-01A-11D-A41E-01</td><td>18</td><td>68347417</td><td> 77109240</td><td> 4143</td><td>-0.0889</td></tr>\n",
       "\t<tr><td>TCGA-Z7-A8R6-01A-11D-A41E-01</td><td>19</td><td>  284018</td><td> 58878226</td><td>23950</td><td>-0.1170</td></tr>\n",
       "\t<tr><td>TCGA-Z7-A8R6-01A-11D-A41E-01</td><td>20</td><td>  455764</td><td> 62219837</td><td>37283</td><td> 0.3435</td></tr>\n",
       "\t<tr><td>TCGA-Z7-A8R6-01A-11D-A41E-01</td><td>21</td><td>15347621</td><td> 47678774</td><td>20582</td><td>-0.1117</td></tr>\n",
       "\t<tr><td>TCGA-Z7-A8R6-01A-11D-A41E-01</td><td>22</td><td>17423930</td><td> 49331012</td><td>16927</td><td>-0.1231</td></tr>\n",
       "\t<tr><td>TCGA-Z7-A8R6-01A-11D-A41E-01</td><td>23</td><td> 3157107</td><td>154905589</td><td>63797</td><td> 0.0014</td></tr>\n",
       "</tbody>\n",
       "</table>\n"
      ],
      "text/latex": [
       "A data.frame: 284458 x 6\n",
       "\\begin{tabular}{llllll}\n",
       " Sample & Chromosome & Start & End & Num\\_Probes & Segment\\_Mean\\\\\n",
       " <chr> & <int> & <int> & <int> & <int> & <dbl>\\\\\n",
       "\\hline\n",
       "\t TCGA-3C-AAAU-10A-01D-A41E-01 & 1 &   3218610 &  95674710 &  53225 &  0.0055\\\\\n",
       "\t TCGA-3C-AAAU-10A-01D-A41E-01 & 1 &  95676511 &  95676518 &      2 & -1.6636\\\\\n",
       "\t TCGA-3C-AAAU-10A-01D-A41E-01 & 1 &  95680124 & 167057183 &  24886 &  0.0053\\\\\n",
       "\t TCGA-3C-AAAU-10A-01D-A41E-01 & 1 & 167057495 & 167059336 &      3 & -1.0999\\\\\n",
       "\t TCGA-3C-AAAU-10A-01D-A41E-01 & 1 & 167059760 & 181602002 &   9213 & -0.0008\\\\\n",
       "\t TCGA-3C-AAAU-10A-01D-A41E-01 & 1 & 181603120 & 181609567 &      6 & -1.2009\\\\\n",
       "\t TCGA-3C-AAAU-10A-01D-A41E-01 & 1 & 181610685 & 201473647 &  12002 &  0.0055\\\\\n",
       "\t TCGA-3C-AAAU-10A-01D-A41E-01 & 1 & 201474400 & 201474544 &      2 & -1.4235\\\\\n",
       "\t TCGA-3C-AAAU-10A-01D-A41E-01 & 1 & 201475220 & 247813706 &  29781 & -0.0004\\\\\n",
       "\t TCGA-3C-AAAU-10A-01D-A41E-01 & 2 &    484222 &  51515129 &  30300 &  0.0044\\\\\n",
       "\t TCGA-3C-AAAU-10A-01D-A41E-01 & 2 &  51517041 &  51524666 &     11 & -1.1753\\\\\n",
       "\t TCGA-3C-AAAU-10A-01D-A41E-01 & 2 &  51525025 & 242476062 & 100972 &  0.0041\\\\\n",
       "\t TCGA-3C-AAAU-10A-01D-A41E-01 & 3 &   2212571 &   2283296 &     51 &  0.0341\\\\\n",
       "\t TCGA-3C-AAAU-10A-01D-A41E-01 & 3 &   2283337 &   2285495 &      2 & -1.2873\\\\\n",
       "\t TCGA-3C-AAAU-10A-01D-A41E-01 & 3 &   2285508 &  13895817 &   6969 & -0.0065\\\\\n",
       "\t TCGA-3C-AAAU-10A-01D-A41E-01 & 3 &  13897245 &  13897406 &      2 & -1.4347\\\\\n",
       "\t TCGA-3C-AAAU-10A-01D-A41E-01 & 3 &  13897885 &  89268266 &  43418 & -0.0033\\\\\n",
       "\t TCGA-3C-AAAU-10A-01D-A41E-01 & 3 &  89268644 &  89268812 &      6 &  0.8839\\\\\n",
       "\t TCGA-3C-AAAU-10A-01D-A41E-01 & 3 &  89269219 & 197538677 &  55921 & -0.0034\\\\\n",
       "\t TCGA-3C-AAAU-10A-01D-A41E-01 & 4 &   1053934 & 162477082 &  89190 & -0.0037\\\\\n",
       "\t TCGA-3C-AAAU-10A-01D-A41E-01 & 4 & 162477184 & 162480449 &      2 & -2.0920\\\\\n",
       "\t TCGA-3C-AAAU-10A-01D-A41E-01 & 4 & 162480911 & 188763651 &  13535 & -0.0031\\\\\n",
       "\t TCGA-3C-AAAU-10A-01D-A41E-01 & 5 &    914233 &  71249846 &  37419 &  0.0048\\\\\n",
       "\t TCGA-3C-AAAU-10A-01D-A41E-01 & 5 &  71252854 &  71253149 &      2 &  1.1995\\\\\n",
       "\t TCGA-3C-AAAU-10A-01D-A41E-01 & 5 &  71257317 & 108310673 &  19508 & -0.0002\\\\\n",
       "\t TCGA-3C-AAAU-10A-01D-A41E-01 & 5 & 108311484 & 108314037 &      2 & -2.0029\\\\\n",
       "\t TCGA-3C-AAAU-10A-01D-A41E-01 & 5 & 108321827 & 180360469 &  43558 & -0.0034\\\\\n",
       "\t TCGA-3C-AAAU-10A-01D-A41E-01 & 6 &   1014281 & 161012443 &  91579 & -0.0003\\\\\n",
       "\t TCGA-3C-AAAU-10A-01D-A41E-01 & 6 & 161014499 & 161014935 &      5 & -0.9912\\\\\n",
       "\t TCGA-3C-AAAU-10A-01D-A41E-01 & 6 & 161015250 & 170903919 &   4896 & -0.0061\\\\\n",
       "\t ... & ... & ... & ... & ... & ...\\\\\n",
       "\t TCGA-Z7-A8R6-01A-11D-A41E-01 & 16 & 50378387 &  50409140 &    13 & -0.2206\\\\\n",
       "\t TCGA-Z7-A8R6-01A-11D-A41E-01 & 16 & 50413232 &  50896231 &   304 & -0.8551\\\\\n",
       "\t TCGA-Z7-A8R6-01A-11D-A41E-01 & 16 & 50897293 &  52478911 &  1201 & -0.0861\\\\\n",
       "\t TCGA-Z7-A8R6-01A-11D-A41E-01 & 16 & 52479771 &  52502318 &    17 & -0.7968\\\\\n",
       "\t TCGA-Z7-A8R6-01A-11D-A41E-01 & 16 & 52503294 &  53539614 &   792 & -0.0344\\\\\n",
       "\t TCGA-Z7-A8R6-01A-11D-A41E-01 & 16 & 53540891 &  53541478 &     5 & -0.7512\\\\\n",
       "\t TCGA-Z7-A8R6-01A-11D-A41E-01 & 16 & 53544993 &  53809312 &   169 & -0.0239\\\\\n",
       "\t TCGA-Z7-A8R6-01A-11D-A41E-01 & 16 & 53810014 &  56977898 &  2295 & -0.8173\\\\\n",
       "\t TCGA-Z7-A8R6-01A-11D-A41E-01 & 16 & 56980908 &  56985139 &     3 & -2.9576\\\\\n",
       "\t TCGA-Z7-A8R6-01A-11D-A41E-01 & 16 & 56990716 &  71396135 &  8086 & -0.8084\\\\\n",
       "\t TCGA-Z7-A8R6-01A-11D-A41E-01 & 16 & 71396172 &  71396290 &     2 & -2.9477\\\\\n",
       "\t TCGA-Z7-A8R6-01A-11D-A41E-01 & 16 & 71402607 &  89379936 & 11807 & -0.8337\\\\\n",
       "\t TCGA-Z7-A8R6-01A-11D-A41E-01 & 17 &   987221 &  16412342 &  7775 & -0.7719\\\\\n",
       "\t TCGA-Z7-A8R6-01A-11D-A41E-01 & 17 & 16416773 &  17967990 &   742 & -0.0520\\\\\n",
       "\t TCGA-Z7-A8R6-01A-11D-A41E-01 & 17 & 17970035 &  18860763 &   300 & -0.7827\\\\\n",
       "\t TCGA-Z7-A8R6-01A-11D-A41E-01 & 17 & 19152102 &  31228629 &  3435 & -0.0533\\\\\n",
       "\t TCGA-Z7-A8R6-01A-11D-A41E-01 & 17 & 31234127 &  31804569 &   565 & -0.8084\\\\\n",
       "\t TCGA-Z7-A8R6-01A-11D-A41E-01 & 17 & 31804984 &  55880090 & 11551 & -0.0508\\\\\n",
       "\t TCGA-Z7-A8R6-01A-11D-A41E-01 & 17 & 55882611 &  56164541 &   161 & -0.7452\\\\\n",
       "\t TCGA-Z7-A8R6-01A-11D-A41E-01 & 17 & 56171979 &  80917016 & 12426 & -0.0470\\\\\n",
       "\t TCGA-Z7-A8R6-01A-11D-A41E-01 & 18 &   329586 &  61806634 & 35216 & -0.0704\\\\\n",
       "\t TCGA-Z7-A8R6-01A-11D-A41E-01 & 18 & 61809405 &  61809922 &     2 & -2.0272\\\\\n",
       "\t TCGA-Z7-A8R6-01A-11D-A41E-01 & 18 & 61810012 &  68327958 &  3298 & -0.0799\\\\\n",
       "\t TCGA-Z7-A8R6-01A-11D-A41E-01 & 18 & 68337362 &  68343590 &     9 & -0.7669\\\\\n",
       "\t TCGA-Z7-A8R6-01A-11D-A41E-01 & 18 & 68347417 &  77109240 &  4143 & -0.0889\\\\\n",
       "\t TCGA-Z7-A8R6-01A-11D-A41E-01 & 19 &   284018 &  58878226 & 23950 & -0.1170\\\\\n",
       "\t TCGA-Z7-A8R6-01A-11D-A41E-01 & 20 &   455764 &  62219837 & 37283 &  0.3435\\\\\n",
       "\t TCGA-Z7-A8R6-01A-11D-A41E-01 & 21 & 15347621 &  47678774 & 20582 & -0.1117\\\\\n",
       "\t TCGA-Z7-A8R6-01A-11D-A41E-01 & 22 & 17423930 &  49331012 & 16927 & -0.1231\\\\\n",
       "\t TCGA-Z7-A8R6-01A-11D-A41E-01 & 23 &  3157107 & 154905589 & 63797 &  0.0014\\\\\n",
       "\\end{tabular}\n"
      ],
      "text/markdown": [
       "\n",
       "A data.frame: 284458 x 6\n",
       "\n",
       "| Sample &lt;chr&gt; | Chromosome &lt;int&gt; | Start &lt;int&gt; | End &lt;int&gt; | Num_Probes &lt;int&gt; | Segment_Mean &lt;dbl&gt; |\n",
       "|---|---|---|---|---|---|\n",
       "| TCGA-3C-AAAU-10A-01D-A41E-01 | 1 |   3218610 |  95674710 |  53225 |  0.0055 |\n",
       "| TCGA-3C-AAAU-10A-01D-A41E-01 | 1 |  95676511 |  95676518 |      2 | -1.6636 |\n",
       "| TCGA-3C-AAAU-10A-01D-A41E-01 | 1 |  95680124 | 167057183 |  24886 |  0.0053 |\n",
       "| TCGA-3C-AAAU-10A-01D-A41E-01 | 1 | 167057495 | 167059336 |      3 | -1.0999 |\n",
       "| TCGA-3C-AAAU-10A-01D-A41E-01 | 1 | 167059760 | 181602002 |   9213 | -0.0008 |\n",
       "| TCGA-3C-AAAU-10A-01D-A41E-01 | 1 | 181603120 | 181609567 |      6 | -1.2009 |\n",
       "| TCGA-3C-AAAU-10A-01D-A41E-01 | 1 | 181610685 | 201473647 |  12002 |  0.0055 |\n",
       "| TCGA-3C-AAAU-10A-01D-A41E-01 | 1 | 201474400 | 201474544 |      2 | -1.4235 |\n",
       "| TCGA-3C-AAAU-10A-01D-A41E-01 | 1 | 201475220 | 247813706 |  29781 | -0.0004 |\n",
       "| TCGA-3C-AAAU-10A-01D-A41E-01 | 2 |    484222 |  51515129 |  30300 |  0.0044 |\n",
       "| TCGA-3C-AAAU-10A-01D-A41E-01 | 2 |  51517041 |  51524666 |     11 | -1.1753 |\n",
       "| TCGA-3C-AAAU-10A-01D-A41E-01 | 2 |  51525025 | 242476062 | 100972 |  0.0041 |\n",
       "| TCGA-3C-AAAU-10A-01D-A41E-01 | 3 |   2212571 |   2283296 |     51 |  0.0341 |\n",
       "| TCGA-3C-AAAU-10A-01D-A41E-01 | 3 |   2283337 |   2285495 |      2 | -1.2873 |\n",
       "| TCGA-3C-AAAU-10A-01D-A41E-01 | 3 |   2285508 |  13895817 |   6969 | -0.0065 |\n",
       "| TCGA-3C-AAAU-10A-01D-A41E-01 | 3 |  13897245 |  13897406 |      2 | -1.4347 |\n",
       "| TCGA-3C-AAAU-10A-01D-A41E-01 | 3 |  13897885 |  89268266 |  43418 | -0.0033 |\n",
       "| TCGA-3C-AAAU-10A-01D-A41E-01 | 3 |  89268644 |  89268812 |      6 |  0.8839 |\n",
       "| TCGA-3C-AAAU-10A-01D-A41E-01 | 3 |  89269219 | 197538677 |  55921 | -0.0034 |\n",
       "| TCGA-3C-AAAU-10A-01D-A41E-01 | 4 |   1053934 | 162477082 |  89190 | -0.0037 |\n",
       "| TCGA-3C-AAAU-10A-01D-A41E-01 | 4 | 162477184 | 162480449 |      2 | -2.0920 |\n",
       "| TCGA-3C-AAAU-10A-01D-A41E-01 | 4 | 162480911 | 188763651 |  13535 | -0.0031 |\n",
       "| TCGA-3C-AAAU-10A-01D-A41E-01 | 5 |    914233 |  71249846 |  37419 |  0.0048 |\n",
       "| TCGA-3C-AAAU-10A-01D-A41E-01 | 5 |  71252854 |  71253149 |      2 |  1.1995 |\n",
       "| TCGA-3C-AAAU-10A-01D-A41E-01 | 5 |  71257317 | 108310673 |  19508 | -0.0002 |\n",
       "| TCGA-3C-AAAU-10A-01D-A41E-01 | 5 | 108311484 | 108314037 |      2 | -2.0029 |\n",
       "| TCGA-3C-AAAU-10A-01D-A41E-01 | 5 | 108321827 | 180360469 |  43558 | -0.0034 |\n",
       "| TCGA-3C-AAAU-10A-01D-A41E-01 | 6 |   1014281 | 161012443 |  91579 | -0.0003 |\n",
       "| TCGA-3C-AAAU-10A-01D-A41E-01 | 6 | 161014499 | 161014935 |      5 | -0.9912 |\n",
       "| TCGA-3C-AAAU-10A-01D-A41E-01 | 6 | 161015250 | 170903919 |   4896 | -0.0061 |\n",
       "| ... | ... | ... | ... | ... | ... |\n",
       "| TCGA-Z7-A8R6-01A-11D-A41E-01 | 16 | 50378387 |  50409140 |    13 | -0.2206 |\n",
       "| TCGA-Z7-A8R6-01A-11D-A41E-01 | 16 | 50413232 |  50896231 |   304 | -0.8551 |\n",
       "| TCGA-Z7-A8R6-01A-11D-A41E-01 | 16 | 50897293 |  52478911 |  1201 | -0.0861 |\n",
       "| TCGA-Z7-A8R6-01A-11D-A41E-01 | 16 | 52479771 |  52502318 |    17 | -0.7968 |\n",
       "| TCGA-Z7-A8R6-01A-11D-A41E-01 | 16 | 52503294 |  53539614 |   792 | -0.0344 |\n",
       "| TCGA-Z7-A8R6-01A-11D-A41E-01 | 16 | 53540891 |  53541478 |     5 | -0.7512 |\n",
       "| TCGA-Z7-A8R6-01A-11D-A41E-01 | 16 | 53544993 |  53809312 |   169 | -0.0239 |\n",
       "| TCGA-Z7-A8R6-01A-11D-A41E-01 | 16 | 53810014 |  56977898 |  2295 | -0.8173 |\n",
       "| TCGA-Z7-A8R6-01A-11D-A41E-01 | 16 | 56980908 |  56985139 |     3 | -2.9576 |\n",
       "| TCGA-Z7-A8R6-01A-11D-A41E-01 | 16 | 56990716 |  71396135 |  8086 | -0.8084 |\n",
       "| TCGA-Z7-A8R6-01A-11D-A41E-01 | 16 | 71396172 |  71396290 |     2 | -2.9477 |\n",
       "| TCGA-Z7-A8R6-01A-11D-A41E-01 | 16 | 71402607 |  89379936 | 11807 | -0.8337 |\n",
       "| TCGA-Z7-A8R6-01A-11D-A41E-01 | 17 |   987221 |  16412342 |  7775 | -0.7719 |\n",
       "| TCGA-Z7-A8R6-01A-11D-A41E-01 | 17 | 16416773 |  17967990 |   742 | -0.0520 |\n",
       "| TCGA-Z7-A8R6-01A-11D-A41E-01 | 17 | 17970035 |  18860763 |   300 | -0.7827 |\n",
       "| TCGA-Z7-A8R6-01A-11D-A41E-01 | 17 | 19152102 |  31228629 |  3435 | -0.0533 |\n",
       "| TCGA-Z7-A8R6-01A-11D-A41E-01 | 17 | 31234127 |  31804569 |   565 | -0.8084 |\n",
       "| TCGA-Z7-A8R6-01A-11D-A41E-01 | 17 | 31804984 |  55880090 | 11551 | -0.0508 |\n",
       "| TCGA-Z7-A8R6-01A-11D-A41E-01 | 17 | 55882611 |  56164541 |   161 | -0.7452 |\n",
       "| TCGA-Z7-A8R6-01A-11D-A41E-01 | 17 | 56171979 |  80917016 | 12426 | -0.0470 |\n",
       "| TCGA-Z7-A8R6-01A-11D-A41E-01 | 18 |   329586 |  61806634 | 35216 | -0.0704 |\n",
       "| TCGA-Z7-A8R6-01A-11D-A41E-01 | 18 | 61809405 |  61809922 |     2 | -2.0272 |\n",
       "| TCGA-Z7-A8R6-01A-11D-A41E-01 | 18 | 61810012 |  68327958 |  3298 | -0.0799 |\n",
       "| TCGA-Z7-A8R6-01A-11D-A41E-01 | 18 | 68337362 |  68343590 |     9 | -0.7669 |\n",
       "| TCGA-Z7-A8R6-01A-11D-A41E-01 | 18 | 68347417 |  77109240 |  4143 | -0.0889 |\n",
       "| TCGA-Z7-A8R6-01A-11D-A41E-01 | 19 |   284018 |  58878226 | 23950 | -0.1170 |\n",
       "| TCGA-Z7-A8R6-01A-11D-A41E-01 | 20 |   455764 |  62219837 | 37283 |  0.3435 |\n",
       "| TCGA-Z7-A8R6-01A-11D-A41E-01 | 21 | 15347621 |  47678774 | 20582 | -0.1117 |\n",
       "| TCGA-Z7-A8R6-01A-11D-A41E-01 | 22 | 17423930 |  49331012 | 16927 | -0.1231 |\n",
       "| TCGA-Z7-A8R6-01A-11D-A41E-01 | 23 |  3157107 | 154905589 | 63797 |  0.0014 |\n",
       "\n"
      ],
      "text/plain": [
       "       Sample                       Chromosome Start     End       Num_Probes\n",
       "1      TCGA-3C-AAAU-10A-01D-A41E-01 1            3218610  95674710  53225    \n",
       "2      TCGA-3C-AAAU-10A-01D-A41E-01 1           95676511  95676518      2    \n",
       "3      TCGA-3C-AAAU-10A-01D-A41E-01 1           95680124 167057183  24886    \n",
       "4      TCGA-3C-AAAU-10A-01D-A41E-01 1          167057495 167059336      3    \n",
       "5      TCGA-3C-AAAU-10A-01D-A41E-01 1          167059760 181602002   9213    \n",
       "6      TCGA-3C-AAAU-10A-01D-A41E-01 1          181603120 181609567      6    \n",
       "7      TCGA-3C-AAAU-10A-01D-A41E-01 1          181610685 201473647  12002    \n",
       "8      TCGA-3C-AAAU-10A-01D-A41E-01 1          201474400 201474544      2    \n",
       "9      TCGA-3C-AAAU-10A-01D-A41E-01 1          201475220 247813706  29781    \n",
       "10     TCGA-3C-AAAU-10A-01D-A41E-01 2             484222  51515129  30300    \n",
       "11     TCGA-3C-AAAU-10A-01D-A41E-01 2           51517041  51524666     11    \n",
       "12     TCGA-3C-AAAU-10A-01D-A41E-01 2           51525025 242476062 100972    \n",
       "13     TCGA-3C-AAAU-10A-01D-A41E-01 3            2212571   2283296     51    \n",
       "14     TCGA-3C-AAAU-10A-01D-A41E-01 3            2283337   2285495      2    \n",
       "15     TCGA-3C-AAAU-10A-01D-A41E-01 3            2285508  13895817   6969    \n",
       "16     TCGA-3C-AAAU-10A-01D-A41E-01 3           13897245  13897406      2    \n",
       "17     TCGA-3C-AAAU-10A-01D-A41E-01 3           13897885  89268266  43418    \n",
       "18     TCGA-3C-AAAU-10A-01D-A41E-01 3           89268644  89268812      6    \n",
       "19     TCGA-3C-AAAU-10A-01D-A41E-01 3           89269219 197538677  55921    \n",
       "20     TCGA-3C-AAAU-10A-01D-A41E-01 4            1053934 162477082  89190    \n",
       "21     TCGA-3C-AAAU-10A-01D-A41E-01 4          162477184 162480449      2    \n",
       "22     TCGA-3C-AAAU-10A-01D-A41E-01 4          162480911 188763651  13535    \n",
       "23     TCGA-3C-AAAU-10A-01D-A41E-01 5             914233  71249846  37419    \n",
       "24     TCGA-3C-AAAU-10A-01D-A41E-01 5           71252854  71253149      2    \n",
       "25     TCGA-3C-AAAU-10A-01D-A41E-01 5           71257317 108310673  19508    \n",
       "26     TCGA-3C-AAAU-10A-01D-A41E-01 5          108311484 108314037      2    \n",
       "27     TCGA-3C-AAAU-10A-01D-A41E-01 5          108321827 180360469  43558    \n",
       "28     TCGA-3C-AAAU-10A-01D-A41E-01 6            1014281 161012443  91579    \n",
       "29     TCGA-3C-AAAU-10A-01D-A41E-01 6          161014499 161014935      5    \n",
       "30     TCGA-3C-AAAU-10A-01D-A41E-01 6          161015250 170903919   4896    \n",
       "...    ...                          ...        ...       ...       ...       \n",
       "284429 TCGA-Z7-A8R6-01A-11D-A41E-01 16         50378387   50409140    13     \n",
       "284430 TCGA-Z7-A8R6-01A-11D-A41E-01 16         50413232   50896231   304     \n",
       "284431 TCGA-Z7-A8R6-01A-11D-A41E-01 16         50897293   52478911  1201     \n",
       "284432 TCGA-Z7-A8R6-01A-11D-A41E-01 16         52479771   52502318    17     \n",
       "284433 TCGA-Z7-A8R6-01A-11D-A41E-01 16         52503294   53539614   792     \n",
       "284434 TCGA-Z7-A8R6-01A-11D-A41E-01 16         53540891   53541478     5     \n",
       "284435 TCGA-Z7-A8R6-01A-11D-A41E-01 16         53544993   53809312   169     \n",
       "284436 TCGA-Z7-A8R6-01A-11D-A41E-01 16         53810014   56977898  2295     \n",
       "284437 TCGA-Z7-A8R6-01A-11D-A41E-01 16         56980908   56985139     3     \n",
       "284438 TCGA-Z7-A8R6-01A-11D-A41E-01 16         56990716   71396135  8086     \n",
       "284439 TCGA-Z7-A8R6-01A-11D-A41E-01 16         71396172   71396290     2     \n",
       "284440 TCGA-Z7-A8R6-01A-11D-A41E-01 16         71402607   89379936 11807     \n",
       "284441 TCGA-Z7-A8R6-01A-11D-A41E-01 17           987221   16412342  7775     \n",
       "284442 TCGA-Z7-A8R6-01A-11D-A41E-01 17         16416773   17967990   742     \n",
       "284443 TCGA-Z7-A8R6-01A-11D-A41E-01 17         17970035   18860763   300     \n",
       "284444 TCGA-Z7-A8R6-01A-11D-A41E-01 17         19152102   31228629  3435     \n",
       "284445 TCGA-Z7-A8R6-01A-11D-A41E-01 17         31234127   31804569   565     \n",
       "284446 TCGA-Z7-A8R6-01A-11D-A41E-01 17         31804984   55880090 11551     \n",
       "284447 TCGA-Z7-A8R6-01A-11D-A41E-01 17         55882611   56164541   161     \n",
       "284448 TCGA-Z7-A8R6-01A-11D-A41E-01 17         56171979   80917016 12426     \n",
       "284449 TCGA-Z7-A8R6-01A-11D-A41E-01 18           329586   61806634 35216     \n",
       "284450 TCGA-Z7-A8R6-01A-11D-A41E-01 18         61809405   61809922     2     \n",
       "284451 TCGA-Z7-A8R6-01A-11D-A41E-01 18         61810012   68327958  3298     \n",
       "284452 TCGA-Z7-A8R6-01A-11D-A41E-01 18         68337362   68343590     9     \n",
       "284453 TCGA-Z7-A8R6-01A-11D-A41E-01 18         68347417   77109240  4143     \n",
       "284454 TCGA-Z7-A8R6-01A-11D-A41E-01 19           284018   58878226 23950     \n",
       "284455 TCGA-Z7-A8R6-01A-11D-A41E-01 20           455764   62219837 37283     \n",
       "284456 TCGA-Z7-A8R6-01A-11D-A41E-01 21         15347621   47678774 20582     \n",
       "284457 TCGA-Z7-A8R6-01A-11D-A41E-01 22         17423930   49331012 16927     \n",
       "284458 TCGA-Z7-A8R6-01A-11D-A41E-01 23          3157107  154905589 63797     \n",
       "       Segment_Mean\n",
       "1       0.0055     \n",
       "2      -1.6636     \n",
       "3       0.0053     \n",
       "4      -1.0999     \n",
       "5      -0.0008     \n",
       "6      -1.2009     \n",
       "7       0.0055     \n",
       "8      -1.4235     \n",
       "9      -0.0004     \n",
       "10      0.0044     \n",
       "11     -1.1753     \n",
       "12      0.0041     \n",
       "13      0.0341     \n",
       "14     -1.2873     \n",
       "15     -0.0065     \n",
       "16     -1.4347     \n",
       "17     -0.0033     \n",
       "18      0.8839     \n",
       "19     -0.0034     \n",
       "20     -0.0037     \n",
       "21     -2.0920     \n",
       "22     -0.0031     \n",
       "23      0.0048     \n",
       "24      1.1995     \n",
       "25     -0.0002     \n",
       "26     -2.0029     \n",
       "27     -0.0034     \n",
       "28     -0.0003     \n",
       "29     -0.9912     \n",
       "30     -0.0061     \n",
       "...    ...         \n",
       "284429 -0.2206     \n",
       "284430 -0.8551     \n",
       "284431 -0.0861     \n",
       "284432 -0.7968     \n",
       "284433 -0.0344     \n",
       "284434 -0.7512     \n",
       "284435 -0.0239     \n",
       "284436 -0.8173     \n",
       "284437 -2.9576     \n",
       "284438 -0.8084     \n",
       "284439 -2.9477     \n",
       "284440 -0.8337     \n",
       "284441 -0.7719     \n",
       "284442 -0.0520     \n",
       "284443 -0.7827     \n",
       "284444 -0.0533     \n",
       "284445 -0.8084     \n",
       "284446 -0.0508     \n",
       "284447 -0.7452     \n",
       "284448 -0.0470     \n",
       "284449 -0.0704     \n",
       "284450 -2.0272     \n",
       "284451 -0.0799     \n",
       "284452 -0.7669     \n",
       "284453 -0.0889     \n",
       "284454 -0.1170     \n",
       "284455  0.3435     \n",
       "284456 -0.1117     \n",
       "284457 -0.1231     \n",
       "284458  0.0014     "
      ]
     },
     "metadata": {},
     "output_type": "display_data"
    }
   ],
   "source": [
    "segs <- read.table(\"/Users/sgrizzi/Desktop/TFCB_data/BRCA.genome_wide_snp_6_broad_Level_3_scna.seg\", header = TRUE)\n",
    "segs"
   ]
  },
  {
   "cell_type": "markdown",
   "id": "e1842cab-a987-43bf-bf6c-e5c4798ea978",
   "metadata": {},
   "source": [
    "Small processing of this file to correct a few legacy hacks. We need to change chromosome 23 to chromosome X."
   ]
  },
  {
   "cell_type": "code",
   "execution_count": 20,
   "id": "99bdf8fe-023a-4be3-b9f9-036881b85f2d",
   "metadata": {
    "vscode": {
     "languageId": "r"
    }
   },
   "outputs": [
    {
     "name": "stdout",
     "output_type": "stream",
     "text": [
      "'data.frame':\t284458 obs. of  6 variables:\n",
      " $ Sample      : chr  \"TCGA-3C-AAAU-10A-01D-A41E-01\" \"TCGA-3C-AAAU-10A-01D-A41E-01\" \"TCGA-3C-AAAU-10A-01D-A41E-01\" \"TCGA-3C-AAAU-10A-01D-A41E-01\" ...\n",
      " $ Chromosome  : int  1 1 1 1 1 1 1 1 1 2 ...\n",
      " $ Start       : int  3218610 95676511 95680124 167057495 167059760 181603120 181610685 201474400 201475220 484222 ...\n",
      " $ End         : int  95674710 95676518 167057183 167059336 181602002 181609567 201473647 201474544 247813706 51515129 ...\n",
      " $ Num_Probes  : int  53225 2 24886 3 9213 6 12002 2 29781 30300 ...\n",
      " $ Segment_Mean: num  0.0055 -1.6636 0.0053 -1.0999 -0.0008 ...\n"
     ]
    }
   ],
   "source": [
    "str(segs) # show the class type for each column\n",
    "mode(segs$Chromosome) <- \"character\" # change the class of the chromosome to character\n",
    "segs[segs$Chromosome == 23, \"Chromosome\"] <- \"X\""
   ]
  },
  {
   "cell_type": "markdown",
   "id": "806965e2-7ee9-4b2d-9c6d-0b9804e4ad9c",
   "metadata": {},
   "source": [
    "### b. Convert the `data.frame` object into a `GRanges`. \n",
    "You can use the `as()` function, as long as the 3 required columns are present. It is also flexible how the columns are named. For example, the column can be `Start`, `start`, `Chr`, `chr`, `Chromosome`, `End`, `Stop`, etc."
   ]
  },
  {
   "cell_type": "code",
   "execution_count": 21,
   "id": "80b67f8f-186a-41e5-9f65-86cefae245d3",
   "metadata": {
    "vscode": {
     "languageId": "r"
    }
   },
   "outputs": [
    {
     "data": {
      "text/plain": [
       "GRanges object with 284458 ranges and 3 metadata columns:\n",
       "           seqnames              ranges strand |                 Sample\n",
       "              <Rle>           <IRanges>  <Rle> |            <character>\n",
       "       [1]        1    3218610-95674710      * | TCGA-3C-AAAU-10A-01D..\n",
       "       [2]        1   95676511-95676518      * | TCGA-3C-AAAU-10A-01D..\n",
       "       [3]        1  95680124-167057183      * | TCGA-3C-AAAU-10A-01D..\n",
       "       [4]        1 167057495-167059336      * | TCGA-3C-AAAU-10A-01D..\n",
       "       [5]        1 167059760-181602002      * | TCGA-3C-AAAU-10A-01D..\n",
       "       ...      ...                 ...    ... .                    ...\n",
       "  [284454]       19     284018-58878226      * | TCGA-Z7-A8R6-01A-11D..\n",
       "  [284455]       20     455764-62219837      * | TCGA-Z7-A8R6-01A-11D..\n",
       "  [284456]       21   15347621-47678774      * | TCGA-Z7-A8R6-01A-11D..\n",
       "  [284457]       22   17423930-49331012      * | TCGA-Z7-A8R6-01A-11D..\n",
       "  [284458]        X   3157107-154905589      * | TCGA-Z7-A8R6-01A-11D..\n",
       "           Num_Probes Segment_Mean\n",
       "            <integer>    <numeric>\n",
       "       [1]      53225       0.0055\n",
       "       [2]          2      -1.6636\n",
       "       [3]      24886       0.0053\n",
       "       [4]          3      -1.0999\n",
       "       [5]       9213      -0.0008\n",
       "       ...        ...          ...\n",
       "  [284454]      23950      -0.1170\n",
       "  [284455]      37283       0.3435\n",
       "  [284456]      20582      -0.1117\n",
       "  [284457]      16927      -0.1231\n",
       "  [284458]      63797       0.0014\n",
       "  -------\n",
       "  seqinfo: 23 sequences from an unspecified genome; no seqlengths"
      ]
     },
     "metadata": {},
     "output_type": "display_data"
    }
   ],
   "source": [
    "segs.gr <- as(segs, \"GRanges\")\n",
    "segs.gr"
   ]
  },
  {
   "cell_type": "markdown",
   "id": "1d8740b2-11b4-4d2b-bff2-5ecdca69d1b1",
   "metadata": {},
   "source": [
    "Alternatively, using `plyranges`. Here, we need to rename the columns: `Chromosome`->`seqnames`, `Start`->`start`, `End`->`end`."
   ]
  },
  {
   "cell_type": "code",
   "execution_count": 9,
   "id": "2378a7c9-2948-413c-9ade-f43ab3ee4ba1",
   "metadata": {
    "vscode": {
     "languageId": "r"
    }
   },
   "outputs": [],
   "source": [
    "colnames(segs)[2:4] <- c(\"seqnames\", \"start\", \"end\")\n",
    "segs.gr <- segs %>% as_granges()"
   ]
  },
  {
   "cell_type": "markdown",
   "id": "3137703e-9d8b-4d4f-9edb-f20aa6690681",
   "metadata": {},
   "source": [
    "## 3. Operations and features of GenomicRanges\n",
    "Some of the most useful features of `GRanges` object is the fast and easy methods for determining overlaps between sets of ranges. Here, we will describe examples using some of the common functions.\n",
    "\n",
    "### 3.1 Tiling the genome\n",
    "Often we would like to *find* or *count* events overlapping regions in the genome. In an unbiased fashion, we could do this genome-wide by dividing the genome into tiles/windows/bins. \n",
    "\n",
    "We will use the `tileGenome()` for this task, which requires three arguments: length of the chromosomes, number of tiles and the size of each tile.\n",
    "\n",
    "### a. We need the lengths of the chromosomes in the human genome.\n",
    "We need to load human genome information for build `hg19`. Since there are non-standard chromosomes, we only want to keep the standard chromosomes using `keepStandardChromosomes`. Then, since our `segs` data uses `NCBI` chromosome naming convention (i.e. `1` instead of `chr1`), we need set the `seqlevelStyle`."
   ]
  },
  {
   "cell_type": "code",
   "execution_count": 10,
   "id": "eeea07c7-5f7f-48a0-9e36-09ae99bfd3f1",
   "metadata": {
    "vscode": {
     "languageId": "r"
    }
   },
   "outputs": [
    {
     "name": "stderr",
     "output_type": "stream",
     "text": [
      "Warning message in (function (seqlevels, genome, new_style) :\n",
      "“cannot switch some of hg19's seqlevels from UCSC to NCBI style”\n"
     ]
    },
    {
     "data": {
      "text/plain": [
       "Seqinfo object with 25 sequences (1 circular) from 2 genomes (GRCh37.p13, hg19):\n",
       "  seqnames seqlengths isCircular     genome\n",
       "  1         249250621      FALSE GRCh37.p13\n",
       "  2         243199373      FALSE GRCh37.p13\n",
       "  3         198022430      FALSE GRCh37.p13\n",
       "  4         191154276      FALSE GRCh37.p13\n",
       "  5         180915260      FALSE GRCh37.p13\n",
       "  ...             ...        ...        ...\n",
       "  21         48129895      FALSE GRCh37.p13\n",
       "  22         51304566      FALSE GRCh37.p13\n",
       "  X         155270560      FALSE GRCh37.p13\n",
       "  Y          59373566      FALSE GRCh37.p13\n",
       "  chrM          16571       TRUE       hg19"
      ]
     },
     "metadata": {},
     "output_type": "display_data"
    }
   ],
   "source": [
    "seqinfo <- Seqinfo(genome = \"hg19\")\n",
    "seqinfo <- keepStandardChromosomes(seqinfo) \n",
    "seqlevelsStyle(seqinfo) <- \"NCBI\"\n",
    "seqinfo"
   ]
  },
  {
   "cell_type": "markdown",
   "id": "30fb6344-ff40-4e84-8be7-5751d3f65dcc",
   "metadata": {},
   "source": [
    "### b. Split the genome into 500kb tiles or windows."
   ]
  },
  {
   "cell_type": "code",
   "execution_count": 11,
   "id": "fbcbd245-3ff9-4159-9e13-43f718b12508",
   "metadata": {
    "vscode": {
     "languageId": "r"
    }
   },
   "outputs": [
    {
     "data": {
      "text/plain": [
       "GRanges object with 6207 ranges and 0 metadata columns:\n",
       "         seqnames            ranges strand\n",
       "            <Rle>         <IRanges>  <Rle>\n",
       "     [1]        1          1-500000      *\n",
       "     [2]        1    500001-1000000      *\n",
       "     [3]        1   1000001-1500000      *\n",
       "     [4]        1   1500001-2000000      *\n",
       "     [5]        1   2000001-2500000      *\n",
       "     ...      ...               ...    ...\n",
       "  [6203]        Y 57500001-58000000      *\n",
       "  [6204]        Y 58000001-58500000      *\n",
       "  [6205]        Y 58500001-59000000      *\n",
       "  [6206]        Y 59000001-59373566      *\n",
       "  [6207]     chrM           1-16571      *\n",
       "  -------\n",
       "  seqinfo: 25 sequences from an unspecified genome"
      ]
     },
     "metadata": {},
     "output_type": "display_data"
    }
   ],
   "source": [
    "slen <- seqlengths(seqinfo) # get the length of the chromosomes\n",
    "tileWidth <- 500000 # tile size of 500kb\n",
    "tiles <- tileGenome(seqlengths = slen, tilewidth = tileWidth,\n",
    "                    cut.last.tile.in.chrom = TRUE)\n",
    "tiles"
   ]
  },
  {
   "cell_type": "markdown",
   "id": "007db130-94ed-4923-b032-ca4039c07465",
   "metadata": {},
   "source": [
    "### 3.2 Finding overlap of ranges\n",
    "One of the most useful features of `GenomicRanges` is to simply identify the ranges that overlap between two `GRanges` objects. The `findOverlaps` function is a basic method in the `GRanges` class for finding the overlaps of the elements that overlap between two `GRanges`. The argmuents `query` for your main `tiles.subset` and `subject` for the `segs.gr`. The `type` argument describes the type of overlap, such as `any`, `within`, `start`, `end`, `equal`, and there are additional arguments for criteria for overlap such as `minoverlap` size.\n",
    "\n",
    "For this example, let's find which copy number alteration segments from `segs.gr` overlap in *any* way with our ranges in `tiles.subset` (`17:35500000-37000000`). \n",
    "\n",
    "### a. Find the tiled ranges for chromosome `17`, starting `35500000` and ending `37000000`."
   ]
  },
  {
   "cell_type": "code",
   "execution_count": 12,
   "id": "c7bfd88b-6686-40e6-93c2-686b97b429e5",
   "metadata": {
    "vscode": {
     "languageId": "r"
    }
   },
   "outputs": [
    {
     "data": {
      "text/plain": [
       "GRanges object with 3 ranges and 0 metadata columns:\n",
       "      seqnames            ranges strand\n",
       "         <Rle>         <IRanges>  <Rle>\n",
       "  [1]       17 35500001-36000000      *\n",
       "  [2]       17 36000001-36500000      *\n",
       "  [3]       17 36500001-37000000      *\n",
       "  -------\n",
       "  seqinfo: 25 sequences from an unspecified genome"
      ]
     },
     "metadata": {},
     "output_type": "display_data"
    }
   ],
   "source": [
    "tiles.subset <- tiles[seqnames(tiles) == \"17\" & start(tiles) >= 35500000 & end(tiles) <= 37000000]\n",
    "tiles.subset"
   ]
  },
  {
   "cell_type": "markdown",
   "id": "98195ecf-c9f2-4cfd-a333-02589399dafd",
   "metadata": {},
   "source": [
    "Alternatively, using `plyranges` and the `filter` verb."
   ]
  },
  {
   "cell_type": "code",
   "execution_count": 13,
   "id": "7059ca7b-70fd-4df9-960b-1081389a159c",
   "metadata": {
    "vscode": {
     "languageId": "r"
    }
   },
   "outputs": [],
   "source": [
    "tiles.subset <- tiles %>% filter(seqnames == \"17\" & start >= 35500000 & end <= 37000000)"
   ]
  },
  {
   "cell_type": "markdown",
   "id": "120d0dd4-09d6-43cb-ab60-2f69155c01d3",
   "metadata": {},
   "source": [
    "### b. Find the overlap between `segs.gr` and `tiles.subset`.\n",
    "Let's find the segments in `segs.gr` (`query`) that overlap our `tiles.subset` (`subject`).\n",
    "`plyranges` provides convenient functions that can bypass having to deal with hits/indices and returns the overlapped regions. Here, we use the function `find_overlaps`. This function will return all of the ranges in the `query` that overlap with the `subject`.\n"
   ]
  },
  {
   "cell_type": "code",
   "execution_count": 14,
   "id": "f138cb5e-8ba6-4dbe-83c2-ff86e47cf1cc",
   "metadata": {
    "vscode": {
     "languageId": "r"
    }
   },
   "outputs": [
    {
     "data": {
      "text/plain": [
       "GRanges object with 2 ranges and 3 metadata columns:\n",
       "      seqnames          ranges strand |                 Sample Num_Probes\n",
       "         <Rle>       <IRanges>  <Rle> |            <character>  <integer>\n",
       "  [1]       17 987221-73296953      * | TCGA-3C-AAAU-10A-01D..      33859\n",
       "  [2]       17 987221-73296953      * | TCGA-3C-AAAU-10A-01D..      33859\n",
       "      Segment_Mean\n",
       "         <numeric>\n",
       "  [1]       0.0088\n",
       "  [2]       0.0088\n",
       "  -------\n",
       "  seqinfo: 23 sequences from an unspecified genome; no seqlengths"
      ]
     },
     "metadata": {},
     "output_type": "display_data"
    }
   ],
   "source": [
    "segs.overlap <- find_overlaps(segs.gr, tiles.subset)  # arguments: find_overlaps(query, subject)\n",
    "segs.overlap[1:2] # show first 2 segments from segs.gr that overlapped tiles.subset"
   ]
  },
  {
   "cell_type": "markdown",
   "id": "a6564984-bbf4-4cc7-a69e-f8708efb7f93",
   "metadata": {},
   "source": [
    "## Exercise 1: \n",
    "\n",
    "### a. Create a range for `11:69400000-69500000`."
   ]
  },
  {
   "cell_type": "code",
   "execution_count": 15,
   "id": "e8dff18b-fab5-4ade-9b2f-e9de1fd45a07",
   "metadata": {
    "vscode": {
     "languageId": "r"
    }
   },
   "outputs": [],
   "source": [
    "# GRanges()"
   ]
  },
  {
   "cell_type": "markdown",
   "id": "6ea3b2fc-276a-4718-bb24-917d20a1ac93",
   "metadata": {},
   "source": [
    "### b. Find overlap between `11:69400000-69500000` and `segs.gr`."
   ]
  },
  {
   "cell_type": "code",
   "execution_count": 16,
   "id": "25beff24-9abc-4e15-a000-5db6f7a32de6",
   "metadata": {
    "vscode": {
     "languageId": "r"
    }
   },
   "outputs": [],
   "source": [
    "# find_overlaps() from plyranges"
   ]
  },
  {
   "cell_type": "markdown",
   "id": "6fde5c7e-c2ae-48ba-b2f9-daf7297ca0c9",
   "metadata": {},
   "source": [
    "### c. What is the `Segment_Mean` for the 2nd segment that overlaps `11:69400000-69500000`?"
   ]
  },
  {
   "cell_type": "code",
   "execution_count": 17,
   "id": "f76a6a13-5142-4500-8fbf-c1a55a1ce335",
   "metadata": {
    "vscode": {
     "languageId": "r"
    }
   },
   "outputs": [],
   "source": [
    "# index the 2nd segment in the result to (b)"
   ]
  }
 ],
 "metadata": {
  "kernelspec": {
   "display_name": "R",
   "language": "R",
   "name": "ir"
  },
  "language_info": {
   "codemirror_mode": "r",
   "file_extension": ".r",
   "mimetype": "text/x-r-source",
   "name": "R",
   "pygments_lexer": "r",
   "version": "4.4.1"
  }
 },
 "nbformat": 4,
 "nbformat_minor": 5
}
